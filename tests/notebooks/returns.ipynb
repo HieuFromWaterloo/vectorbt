{
 "cells": [
  {
   "cell_type": "markdown",
   "metadata": {},
   "source": [
    "# returns"
   ]
  },
  {
   "cell_type": "code",
   "execution_count": 2,
   "metadata": {
    "Collapsed": "false"
   },
   "outputs": [
    {
     "name": "stderr",
     "output_type": "stream",
     "text": [
      "/Users/olegpolakow/miniconda3/lib/python3.7/site-packages/pandas_datareader/compat/__init__.py:7: FutureWarning: pandas.util.testing is deprecated. Use the functions in the public API at pandas.testing instead.\n",
      "  from pandas.util.testing import assert_frame_equal\n",
      "/Users/olegpolakow/miniconda3/lib/python3.7/site-packages/empyrical/utils.py:32: UserWarning: Unable to import pandas_datareader. Suppressing import error and continuing. All data reading functionality will raise errors; but has been deprecated and will be removed in a later version.\n",
      "  warnings.warn(msg)\n"
     ]
    }
   ],
   "source": [
    "import numpy as np\n",
    "import pandas as pd\n",
    "from datetime import datetime, timedelta\n",
    "from numba import njit\n",
    "import numba; numba.config.THREADING_LAYER = 'workqueue'\n",
    "import empyrical"
   ]
  },
  {
   "cell_type": "code",
   "execution_count": 1,
   "metadata": {},
   "outputs": [],
   "source": [
    "import vectorbt as vbt"
   ]
  },
  {
   "cell_type": "code",
   "execution_count": 3,
   "metadata": {},
   "outputs": [],
   "source": [
    "# Disable caching for performance testing\n",
    "vbt.settings.caching['enabled'] = False\n",
    "vbt.settings.returns['year_freq'] = '252 days' # same as empyrical"
   ]
  },
  {
   "cell_type": "code",
   "execution_count": 4,
   "metadata": {},
   "outputs": [
    {
     "name": "stdout",
     "output_type": "stream",
     "text": [
      "              a    b    c\n",
      "2018-01-01  1.0  5.0  1.0\n",
      "2018-01-02  2.0  4.0  2.0\n",
      "2018-01-03  3.0  3.0  3.0\n",
      "2018-01-04  4.0  2.0  2.0\n",
      "2018-01-05  5.0  1.0  1.0\n"
     ]
    }
   ],
   "source": [
    "index = pd.DatetimeIndex([\n",
    "    datetime(2018, 1, 1),\n",
    "    datetime(2018, 1, 2),\n",
    "    datetime(2018, 1, 3),\n",
    "    datetime(2018, 1, 4),\n",
    "    datetime(2018, 1, 5)\n",
    "], freq='D')\n",
    "columns = ['a', 'b', 'c']\n",
    "ts = pd.DataFrame({\n",
    "    'a': [1, 2, 3, 4, 5], \n",
    "    'b': [5, 4, 3, 2, 1],\n",
    "    'c': [1, 2, 3, 2, 1]\n",
    "}, index=index).astype(np.float32)\n",
    "\n",
    "print(ts)"
   ]
  },
  {
   "cell_type": "code",
   "execution_count": 5,
   "metadata": {},
   "outputs": [
    {
     "data": {
      "text/plain": [
       "(1000, 1000)"
      ]
     },
     "execution_count": 5,
     "metadata": {},
     "output_type": "execute_result"
    }
   ],
   "source": [
    "big_ts = pd.DataFrame(np.random.randint(1, 10, size=(1000, 1000)).astype(float))\n",
    "big_ts.index = [datetime(2018, 1, 1) + timedelta(days=i) for i in range(1000)]\n",
    "big_ts.shape"
   ]
  },
  {
   "cell_type": "code",
   "execution_count": 6,
   "metadata": {},
   "outputs": [
    {
     "name": "stdout",
     "output_type": "stream",
     "text": [
      "                   a         b         c\n",
      "2018-01-01       NaN       NaN       NaN\n",
      "2018-01-02  1.000000 -0.200000  1.000000\n",
      "2018-01-03  0.500000 -0.250000  0.500000\n",
      "2018-01-04  0.333333 -0.333333 -0.333333\n",
      "2018-01-05  0.250000 -0.500000 -0.500000\n"
     ]
    }
   ],
   "source": [
    "returns = ts.vbt.to_returns()\n",
    "print(returns)\n",
    "\n",
    "big_returns = big_ts.vbt.to_returns()"
   ]
  },
  {
   "cell_type": "code",
   "execution_count": 7,
   "metadata": {},
   "outputs": [],
   "source": [
    "np.random.seed(42)\n",
    "benchmark_rets = returns['a'] * np.random.uniform(0.8, 1.2, returns.shape[0])\n",
    "big_benchmark_rets = big_returns[0] * np.random.uniform(0.8, 1.2, big_returns.shape[0])"
   ]
  },
  {
   "cell_type": "code",
   "execution_count": 8,
   "metadata": {},
   "outputs": [
    {
     "name": "stdout",
     "output_type": "stream",
     "text": [
      "252 days 00:00:00\n",
      "252 days 00:00:00\n",
      "252 days 00:00:00\n",
      "252 days 00:00:00\n"
     ]
    }
   ],
   "source": [
    "# Test year frequency\n",
    "print(returns.vbt.returns.year_freq)\n",
    "print(returns['a'].vbt.returns.year_freq)\n",
    "print(returns.vbt.returns(year_freq='252 days').year_freq)\n",
    "print(returns['a'].vbt.returns(year_freq='252 days').year_freq)"
   ]
  },
  {
   "cell_type": "code",
   "execution_count": 9,
   "metadata": {},
   "outputs": [
    {
     "name": "stdout",
     "output_type": "stream",
     "text": [
      "252.0\n",
      "252.0\n"
     ]
    }
   ],
   "source": [
    "print(returns.vbt.returns.ann_factor) # default\n",
    "print(returns.vbt.returns(year_freq='252 days').ann_factor)"
   ]
  },
  {
   "cell_type": "code",
   "execution_count": 10,
   "metadata": {},
   "outputs": [
    {
     "name": "stdout",
     "output_type": "stream",
     "text": [
      "2018-01-01         NaN\n",
      "2018-01-02    1.000000\n",
      "2018-01-03    0.500000\n",
      "2018-01-04    0.333333\n",
      "2018-01-05    0.250000\n",
      "Freq: D, Name: a, dtype: float64\n",
      "                   a         b         c\n",
      "2018-01-01       NaN       NaN       NaN\n",
      "2018-01-02  1.000000 -0.200000  1.000000\n",
      "2018-01-03  0.500000 -0.250000  0.500000\n",
      "2018-01-04  0.333333 -0.333333 -0.333333\n",
      "2018-01-05  0.250000 -0.500000 -0.500000\n",
      "2.41 ms ± 21.9 µs per loop (mean ± std. dev. of 7 runs, 100 loops each)\n",
      "2.46 ms ± 4.34 µs per loop (mean ± std. dev. of 7 runs, 100 loops each)\n"
     ]
    }
   ],
   "source": [
    "print(returns['a'].vbt.returns.daily()) # already daily, do nothing\n",
    "print(returns.vbt.returns.daily())\n",
    "\n",
    "%timeit big_returns.vbt.returns.daily(parallel=False)\n",
    "%timeit big_returns.vbt.returns.daily(parallel=True)"
   ]
  },
  {
   "cell_type": "code",
   "execution_count": 11,
   "metadata": {},
   "outputs": [
    {
     "name": "stdout",
     "output_type": "stream",
     "text": [
      "2018-01-01    4.0\n",
      "Freq: 252D, Name: a, dtype: float64\n",
      "              a    b    c\n",
      "2018-01-01  4.0 -0.8  0.0\n",
      "15.4 ms ± 107 µs per loop (mean ± std. dev. of 7 runs, 100 loops each)\n",
      "10 ms ± 250 µs per loop (mean ± std. dev. of 7 runs, 1 loop each)\n"
     ]
    }
   ],
   "source": [
    "print(returns['a'].vbt.returns.annual())\n",
    "print(returns.vbt.returns.annual())\n",
    "\n",
    "%timeit big_returns.vbt.returns.annual(parallel=False)\n",
    "%timeit big_returns.vbt.returns.annual(parallel=True)"
   ]
  },
  {
   "cell_type": "code",
   "execution_count": 12,
   "metadata": {},
   "outputs": [
    {
     "name": "stdout",
     "output_type": "stream",
     "text": [
      "2018-01-01    0.0\n",
      "2018-01-02    1.0\n",
      "2018-01-03    2.0\n",
      "2018-01-04    3.0\n",
      "2018-01-05    4.0\n",
      "Freq: D, dtype: float64\n",
      "882 µs ± 8.55 µs per loop (mean ± std. dev. of 7 runs, 1000 loops each)\n",
      "2018-01-01    0.0\n",
      "2018-01-02    1.0\n",
      "2018-01-03    2.0\n",
      "2018-01-04    3.0\n",
      "2018-01-05    4.0\n",
      "Freq: D, Name: a, dtype: float64\n",
      "2.62 ms ± 20.1 µs per loop (mean ± std. dev. of 7 runs, 100 loops each)\n",
      "              a    b    c\n",
      "2018-01-01  0.0  0.0  0.0\n",
      "2018-01-02  1.0 -0.2  1.0\n",
      "2018-01-03  2.0 -0.4  2.0\n",
      "2018-01-04  3.0 -0.6  1.0\n",
      "2018-01-05  4.0 -0.8  0.0\n",
      "              a    b    c\n",
      "2018-01-01  1.0  1.0  1.0\n",
      "2018-01-02  2.0  0.8  2.0\n",
      "2018-01-03  3.0  0.6  3.0\n",
      "2018-01-04  4.0  0.4  2.0\n",
      "2018-01-05  5.0  0.2  1.0\n",
      "7.1 ms ± 68.4 µs per loop (mean ± std. dev. of 7 runs, 100 loops each)\n",
      "4.66 ms ± 1.38 ms per loop (mean ± std. dev. of 7 runs, 1 loop each)\n"
     ]
    }
   ],
   "source": [
    "print(empyrical.cum_returns(returns['a']))\n",
    "%timeit empyrical.cum_returns(big_returns[0])\n",
    "\n",
    "print(returns['a'].vbt.returns.cumulative())\n",
    "%timeit big_returns[0].vbt.returns.cumulative()\n",
    "\n",
    "print(returns.vbt.returns.cumulative())\n",
    "print(returns.vbt.returns.cumulative(start_value=1))\n",
    "%timeit big_returns.vbt.returns.cumulative(parallel=False)\n",
    "%timeit big_returns.vbt.returns.cumulative(parallel=True)"
   ]
  },
  {
   "cell_type": "code",
   "execution_count": 13,
   "metadata": {},
   "outputs": [
    {
     "name": "stdout",
     "output_type": "stream",
     "text": [
      "4.0\n",
      "60.4 µs ± 369 ns per loop (mean ± std. dev. of 7 runs, 10000 loops each)\n",
      "4.0\n",
      "2.66 ms ± 6.85 µs per loop (mean ± std. dev. of 7 runs, 100 loops each)\n",
      "a    4.0\n",
      "b   -0.8\n",
      "c    0.0\n",
      "Name: total_return, dtype: float64\n",
      "8.92 ms ± 14.3 µs per loop (mean ± std. dev. of 7 runs, 100 loops each)\n",
      "4.3 ms ± 350 µs per loop (mean ± std. dev. of 7 runs, 1 loop each)\n",
      "              a     b    c\n",
      "2018-01-01  NaN   NaN  NaN\n",
      "2018-01-02  1.0 -0.20  1.0\n",
      "2018-01-03  2.0 -0.40  2.0\n",
      "2018-01-04  3.0 -0.60  1.0\n",
      "2018-01-05  1.5 -0.75 -0.5\n",
      "34.4 ms ± 97.8 µs per loop (mean ± std. dev. of 7 runs, 10 loops each)\n",
      "10.5 ms ± 479 µs per loop (mean ± std. dev. of 7 runs, 1 loop each)\n"
     ]
    }
   ],
   "source": [
    "print(empyrical.cum_returns_final(returns['a']))\n",
    "%timeit empyrical.cum_returns_final(big_returns[0])\n",
    "\n",
    "print(returns['a'].vbt.returns.total())\n",
    "%timeit big_returns[0].vbt.returns.total()\n",
    "\n",
    "print(returns.vbt.returns.total())\n",
    "%timeit big_returns.vbt.returns.total(parallel=False)\n",
    "%timeit big_returns.vbt.returns.total(parallel=True)\n",
    "\n",
    "print(returns.vbt.returns.rolling_total(3, minp=1))\n",
    "%timeit big_returns.vbt.returns.rolling_total(10, minp=1, parallel=False)\n",
    "%timeit big_returns.vbt.returns.rolling_total(10, minp=1, parallel=True)"
   ]
  },
  {
   "cell_type": "code",
   "execution_count": 14,
   "metadata": {},
   "outputs": [
    {
     "name": "stdout",
     "output_type": "stream",
     "text": [
      "1.6907843469446035e+35\n",
      "62.4 µs ± 671 ns per loop (mean ± std. dev. of 7 runs, 10000 loops each)\n",
      "1.0842021724855045e+44\n",
      "2.69 ms ± 3.56 µs per loop (mean ± std. dev. of 7 runs, 100 loops each)\n",
      "a    1.084202e+44\n",
      "b   -1.000000e+00\n",
      "c    0.000000e+00\n",
      "Name: annualized_return, dtype: float64\n",
      "7.76 ms ± 8.31 µs per loop (mean ± std. dev. of 7 runs, 100 loops each)\n",
      "4.14 ms ± 258 µs per loop (mean ± std. dev. of 7 runs, 1 loop each)\n",
      "                       a    b             c\n",
      "2018-01-01           NaN  NaN           NaN\n",
      "2018-01-02  7.237006e+75 -1.0  7.237006e+75\n",
      "2018-01-03  1.310021e+60 -1.0  1.310021e+60\n",
      "2018-01-04  3.741444e+50 -1.0  1.934281e+25\n",
      "2018-01-05  2.672765e+33 -1.0 -1.000000e+00\n",
      "65.9 ms ± 291 µs per loop (mean ± std. dev. of 7 runs, 10 loops each)\n",
      "16.7 ms ± 385 µs per loop (mean ± std. dev. of 7 runs, 1 loop each)\n"
     ]
    }
   ],
   "source": [
    "print(empyrical.annual_return(returns['a']))\n",
    "%timeit empyrical.annual_return(big_returns[0])\n",
    "\n",
    "print(returns['a'].vbt.returns.annualized())\n",
    "%timeit big_returns[0].vbt.returns.annualized()\n",
    "\n",
    "print(returns.vbt.returns.annualized())\n",
    "%timeit big_returns.vbt.returns.annualized(parallel=False)\n",
    "%timeit big_returns.vbt.returns.annualized(parallel=True)\n",
    "\n",
    "print(returns.vbt.returns.rolling_annualized(3, minp=1))\n",
    "%timeit big_returns.vbt.returns.rolling_annualized(10, minp=1, parallel=False)\n",
    "%timeit big_returns.vbt.returns.rolling_annualized(10, minp=1, parallel=True)"
   ]
  },
  {
   "cell_type": "code",
   "execution_count": 15,
   "metadata": {},
   "outputs": [
    {
     "name": "stdout",
     "output_type": "stream",
     "text": [
      "2.12183829613521\n",
      "11.9 µs ± 98.6 ns per loop (mean ± std. dev. of 7 runs, 100000 loops each)\n",
      "2.12183829613521\n",
      "2.71 ms ± 8.06 µs per loop (mean ± std. dev. of 7 runs, 100 loops each)\n",
      "a    2.121838\n",
      "b    0.830587\n",
      "c    4.466341\n",
      "Name: annualized_volatility, dtype: float64\n",
      "7.89 ms ± 68.5 µs per loop (mean ± std. dev. of 7 runs, 100 loops each)\n",
      "4.02 ms ± 104 µs per loop (mean ± std. dev. of 7 runs, 1 loop each)\n",
      "                   a         b         c\n",
      "2018-01-01       NaN       NaN       NaN\n",
      "2018-01-02       NaN       NaN       NaN\n",
      "2018-01-03  2.233170  0.223317  2.233170\n",
      "2018-01-04  2.191425  0.425454  4.254544\n",
      "2018-01-05  0.804033  0.804033  3.384043\n",
      "43.5 ms ± 367 µs per loop (mean ± std. dev. of 7 runs, 10 loops each)\n",
      "11.8 ms ± 144 µs per loop (mean ± std. dev. of 7 runs, 1 loop each)\n"
     ]
    }
   ],
   "source": [
    "print(empyrical.annual_volatility(returns['a'], alpha=3.))\n",
    "%timeit empyrical.annual_volatility(big_returns[0], alpha=3.)\n",
    "\n",
    "print(returns['a'].vbt.returns.annualized_volatility(levy_alpha=3.))\n",
    "%timeit big_returns[0].vbt.returns.annualized_volatility(levy_alpha=3.)\n",
    "\n",
    "print(returns.vbt.returns.annualized_volatility(levy_alpha=3.))\n",
    "%timeit big_returns.vbt.returns.annualized_volatility(levy_alpha=3., parallel=False)\n",
    "%timeit big_returns.vbt.returns.annualized_volatility(levy_alpha=3., parallel=True)\n",
    "\n",
    "print(returns.vbt.returns.rolling_annualized_volatility(3, minp=1, levy_alpha=3.))\n",
    "%timeit big_returns.vbt.returns.rolling_annualized_volatility(10, minp=1, levy_alpha=3., parallel=False)\n",
    "%timeit big_returns.vbt.returns.rolling_annualized_volatility(10, minp=1, levy_alpha=3., parallel=True)"
   ]
  },
  {
   "cell_type": "code",
   "execution_count": 16,
   "metadata": {},
   "outputs": [
    {
     "name": "stdout",
     "output_type": "stream",
     "text": [
      "-1.25\n",
      "109 µs ± 316 ns per loop (mean ± std. dev. of 7 runs, 10000 loops each)\n",
      "-1.25\n",
      "2.7 ms ± 6.15 µs per loop (mean ± std. dev. of 7 runs, 100 loops each)\n",
      "a     NaN\n",
      "b   -1.25\n",
      "c    0.00\n",
      "Name: calmar_ratio, dtype: float64\n",
      "15.1 ms ± 70.3 µs per loop (mean ± std. dev. of 7 runs, 100 loops each)\n",
      "5.33 ms ± 195 µs per loop (mean ± std. dev. of 7 runs, 1 loop each)\n",
      "             a         b             c\n",
      "2018-01-01 NaN       NaN           NaN\n",
      "2018-01-02 NaN -5.000000           NaN\n",
      "2018-01-03 NaN -2.500000           NaN\n",
      "2018-01-04 NaN -1.666667  5.802844e+25\n",
      "2018-01-05 NaN -1.333333 -1.500000e+00\n",
      "167 ms ± 910 µs per loop (mean ± std. dev. of 7 runs, 10 loops each)\n",
      "35.3 ms ± 2.17 ms per loop (mean ± std. dev. of 7 runs, 1 loop each)\n"
     ]
    }
   ],
   "source": [
    "print(empyrical.calmar_ratio(returns['b']))\n",
    "%timeit empyrical.calmar_ratio(big_returns[0])\n",
    "\n",
    "print(returns['b'].vbt.returns.calmar_ratio())\n",
    "%timeit big_returns[0].vbt.returns.calmar_ratio()\n",
    "\n",
    "print(returns.vbt.returns.calmar_ratio())\n",
    "%timeit big_returns.vbt.returns.calmar_ratio(parallel=False)\n",
    "%timeit big_returns.vbt.returns.calmar_ratio(parallel=True)\n",
    "\n",
    "print(returns.vbt.returns.rolling_calmar_ratio(3, minp=1))\n",
    "%timeit big_returns.vbt.returns.rolling_calmar_ratio(10, minp=1, parallel=False)\n",
    "%timeit big_returns.vbt.returns.rolling_calmar_ratio(10, minp=1, parallel=True)"
   ]
  },
  {
   "cell_type": "code",
   "execution_count": 17,
   "metadata": {},
   "outputs": [
    {
     "name": "stdout",
     "output_type": "stream",
     "text": [
      "1.7319528258777739\n",
      "384 µs ± 295 ns per loop (mean ± std. dev. of 7 runs, 1000 loops each)\n",
      "1.7319528258777739\n",
      "2.7 ms ± 5.76 µs per loop (mean ± std. dev. of 7 runs, 100 loops each)\n",
      "a         inf\n",
      "b    0.000000\n",
      "c    1.731953\n",
      "Name: omega_ratio, dtype: float64\n",
      "7.81 ms ± 24.1 µs per loop (mean ± std. dev. of 7 runs, 100 loops each)\n",
      "4.75 ms ± 133 µs per loop (mean ± std. dev. of 7 runs, 1 loop each)\n",
      "              a    b         c\n",
      "2018-01-01  NaN  NaN       NaN\n",
      "2018-01-02  inf  0.0       inf\n",
      "2018-01-03  inf  0.0       inf\n",
      "2018-01-04  inf  0.0  4.303734\n",
      "2018-01-05  inf  0.0  0.573267\n",
      "28.4 ms ± 715 µs per loop (mean ± std. dev. of 7 runs, 10 loops each)\n",
      "11.2 ms ± 837 µs per loop (mean ± std. dev. of 7 runs, 1 loop each)\n"
     ]
    }
   ],
   "source": [
    "print(empyrical.omega_ratio(returns['c'], risk_free=0.01, required_return=0.1))\n",
    "%timeit empyrical.omega_ratio(big_returns[0], risk_free=0.01, required_return=0.1)\n",
    "\n",
    "print(returns['c'].vbt.returns.omega_ratio(risk_free=0.01, required_return=0.1))\n",
    "%timeit big_returns[0].vbt.returns.omega_ratio(risk_free=0.01, required_return=0.1)\n",
    "\n",
    "print(returns.vbt.returns.omega_ratio(risk_free=0.01, required_return=0.1))\n",
    "%timeit big_returns.vbt.returns.omega_ratio(risk_free=0.01, required_return=0.1, parallel=False)\n",
    "%timeit big_returns.vbt.returns.omega_ratio(risk_free=0.01, required_return=0.1, parallel=True)\n",
    "\n",
    "print(returns.vbt.returns.rolling_omega_ratio(3, minp=1, risk_free=0.01, required_return=0.1))\n",
    "%timeit big_returns.vbt.returns.rolling_omega_ratio(10, minp=1, risk_free=0.01, required_return=0.1, parallel=False)\n",
    "%timeit big_returns.vbt.returns.rolling_omega_ratio(10, minp=1, risk_free=0.01, required_return=0.1, parallel=True)"
   ]
  },
  {
   "cell_type": "code",
   "execution_count": 18,
   "metadata": {},
   "outputs": [
    {
     "name": "stdout",
     "output_type": "stream",
     "text": [
      "24.139821935485003\n",
      "58.3 µs ± 234 ns per loop (mean ± std. dev. of 7 runs, 10000 loops each)\n",
      "24.139821935485003\n",
      "2.71 ms ± 3.53 µs per loop (mean ± std. dev. of 7 runs, 100 loops each)\n",
      "a    24.139822\n",
      "b   -39.938441\n",
      "c     3.517158\n",
      "Name: sharpe_ratio, dtype: float64\n",
      "10.4 ms ± 7.83 µs per loop (mean ± std. dev. of 7 runs, 100 loops each)\n",
      "5.05 ms ± 80 µs per loop (mean ± std. dev. of 7 runs, 1 loop each)\n",
      "                    a           b          c\n",
      "2018-01-01        NaN         NaN        NaN\n",
      "2018-01-02        NaN         NaN        NaN\n",
      "2018-01-03  33.225918 -105.514738  33.225918\n",
      "2018-01-04  27.503960  -63.894198   8.929476\n",
      "2018-01-05  43.786244  -46.280398  -3.588519\n",
      "65.2 ms ± 649 µs per loop (mean ± std. dev. of 7 runs, 10 loops each)\n",
      "18.9 ms ± 1.47 ms per loop (mean ± std. dev. of 7 runs, 1 loop each)\n"
     ]
    }
   ],
   "source": [
    "print(empyrical.sharpe_ratio(returns['a'], risk_free=0.01))\n",
    "%timeit empyrical.sharpe_ratio(big_returns[0], risk_free=0.01)\n",
    "\n",
    "print(returns['a'].vbt.returns.sharpe_ratio(risk_free=0.01))\n",
    "%timeit big_returns[0].vbt.returns.sharpe_ratio(risk_free=0.01)\n",
    "\n",
    "print(returns.vbt.returns.sharpe_ratio(risk_free=0.01))\n",
    "%timeit big_returns.vbt.returns.sharpe_ratio(risk_free=0.01, parallel=False)\n",
    "%timeit big_returns.vbt.returns.sharpe_ratio(risk_free=0.01, parallel=True)\n",
    "\n",
    "print(returns.vbt.returns.rolling_sharpe_ratio(3, minp=1, risk_free=0.01))\n",
    "%timeit big_returns.vbt.returns.rolling_sharpe_ratio(10, minp=1, risk_free=0.01, parallel=False)\n",
    "%timeit big_returns.vbt.returns.rolling_sharpe_ratio(10, minp=1, risk_free=0.01, parallel=True)"
   ]
  },
  {
   "cell_type": "code",
   "execution_count": 19,
   "metadata": {},
   "outputs": [
    {
     "name": "stdout",
     "output_type": "stream",
     "text": [
      "a         NaN\n",
      "b         NaN\n",
      "c    0.000536\n",
      "Name: deflated_sharpe_ratio, dtype: float64\n"
     ]
    },
    {
     "name": "stderr",
     "output_type": "stream",
     "text": [
      "/Users/olegpolakow/Documents/SourceTree/vectorbt/vectorbt/returns/metrics.py:26: RuntimeWarning: invalid value encountered in sqrt\n",
      "  np.sqrt(1 - skew * est_sharpe + ((kurtosis - 1) / 4) * est_sharpe ** 2))\n"
     ]
    },
    {
     "name": "stdout",
     "output_type": "stream",
     "text": [
      "20.5 ms ± 151 µs per loop (mean ± std. dev. of 7 runs, 10 loops each)\n",
      "1.0\n"
     ]
    }
   ],
   "source": [
    "print(returns.vbt.returns.deflated_sharpe_ratio(risk_free=0.01))\n",
    "%timeit big_returns.vbt.returns.deflated_sharpe_ratio(risk_free=0.01)\n",
    "\n",
    "# can specify var_sharpe and nb_trials expclicitly\n",
    "print(big_returns[0].vbt.returns.deflated_sharpe_ratio(\n",
    "    risk_free=0.01, \n",
    "    var_sharpe=np.var(big_returns.vbt.returns.sharpe_ratio(risk_free=0.01)),\n",
    "    nb_trials=big_returns.shape[1]\n",
    "))"
   ]
  },
  {
   "cell_type": "code",
   "execution_count": 20,
   "metadata": {},
   "outputs": [
    {
     "name": "stdout",
     "output_type": "stream",
     "text": [
      "6.920801976649817\n",
      "29.8 µs ± 56.5 ns per loop (mean ± std. dev. of 7 runs, 10000 loops each)\n",
      "6.920801976649817\n",
      "2.7 ms ± 11 µs per loop (mean ± std. dev. of 7 runs, 100 loops each)\n",
      "a    0.000000\n",
      "b    6.920802\n",
      "c    5.874521\n",
      "Name: downside_risk, dtype: float64\n",
      "6.99 ms ± 6.2 µs per loop (mean ± std. dev. of 7 runs, 100 loops each)\n",
      "4.15 ms ± 9.64 µs per loop (mean ± std. dev. of 7 runs, 100 loops each)\n",
      "              a         b         c\n",
      "2018-01-01  NaN       NaN       NaN\n",
      "2018-01-02  0.0  4.762352  0.000000\n",
      "2018-01-03  0.0  5.174456  0.000000\n",
      "2018-01-04  0.0  5.798563  3.971566\n",
      "2018-01-05  0.0  7.503555  6.783313\n",
      "29.2 ms ± 132 µs per loop (mean ± std. dev. of 7 runs, 10 loops each)\n",
      "10.4 ms ± 105 µs per loop (mean ± std. dev. of 7 runs, 1 loop each)\n"
     ]
    }
   ],
   "source": [
    "print(empyrical.downside_risk(returns['b'], required_return=0.1))\n",
    "%timeit empyrical.downside_risk(big_returns[0], required_return=0.1)\n",
    "\n",
    "print(returns['b'].vbt.returns.downside_risk(required_return=0.1))\n",
    "%timeit big_returns[0].vbt.returns.downside_risk(required_return=0.1)\n",
    "\n",
    "print(returns.vbt.returns.downside_risk(required_return=0.1))\n",
    "%timeit big_returns.vbt.returns.downside_risk(required_return=0.1, parallel=False)\n",
    "%timeit big_returns.vbt.returns.downside_risk(required_return=0.1, parallel=True)\n",
    "\n",
    "print(returns.vbt.returns.rolling_downside_risk(3, minp=1, required_return=0.1))\n",
    "%timeit big_returns.vbt.returns.rolling_downside_risk(10, minp=1, required_return=0.1, parallel=False)\n",
    "%timeit big_returns.vbt.returns.rolling_downside_risk(10, minp=1, required_return=0.1, parallel=True)"
   ]
  },
  {
   "cell_type": "code",
   "execution_count": 21,
   "metadata": {},
   "outputs": [
    {
     "name": "stdout",
     "output_type": "stream",
     "text": [
      "-15.32336864395246\n",
      "83.1 µs ± 516 ns per loop (mean ± std. dev. of 7 runs, 10000 loops each)\n",
      "-15.32336864395246\n",
      "2.71 ms ± 10.7 µs per loop (mean ± std. dev. of 7 runs, 100 loops each)\n",
      "a          inf\n",
      "b   -15.323369\n",
      "c     2.859808\n",
      "Name: sortino_ratio, dtype: float64\n",
      "9.02 ms ± 12.7 µs per loop (mean ± std. dev. of 7 runs, 100 loops each)\n",
      "4.78 ms ± 170 µs per loop (mean ± std. dev. of 7 runs, 1 loop each)\n",
      "              a          b          c\n",
      "2018-01-01  NaN        NaN        NaN\n",
      "2018-01-02  inf -15.874508        inf\n",
      "2018-01-03  inf -15.827749        inf\n",
      "2018-01-04  inf -15.693543  18.330303\n",
      "2018-01-05  inf -15.485994  -7.842776\n",
      "46.6 ms ± 528 µs per loop (mean ± std. dev. of 7 runs, 10 loops each)\n",
      "14.2 ms ± 199 µs per loop (mean ± std. dev. of 7 runs, 1 loop each)\n"
     ]
    }
   ],
   "source": [
    "print(empyrical.sortino_ratio(returns['b'], required_return=0.1))\n",
    "%timeit empyrical.sortino_ratio(big_returns[0], required_return=0.1)\n",
    "\n",
    "print(returns['b'].vbt.returns.sortino_ratio(required_return=0.1))\n",
    "%timeit big_returns[0].vbt.returns.sortino_ratio(required_return=0.1)\n",
    "\n",
    "print(returns.vbt.returns.sortino_ratio(required_return=0.1))\n",
    "%timeit big_returns.vbt.returns.sortino_ratio(required_return=0.1, parallel=False)\n",
    "%timeit big_returns.vbt.returns.sortino_ratio(required_return=0.1, parallel=True)\n",
    "\n",
    "print(returns.vbt.returns.rolling_sortino_ratio(3, minp=1, required_return=0.1))\n",
    "%timeit big_returns.vbt.returns.rolling_sortino_ratio(10, minp=1, required_return=0.1, parallel=False)\n",
    "%timeit big_returns.vbt.returns.rolling_sortino_ratio(10, minp=1, required_return=0.1, parallel=True)"
   ]
  },
  {
   "cell_type": "code",
   "execution_count": 22,
   "metadata": {},
   "outputs": [
    {
     "name": "stdout",
     "output_type": "stream",
     "text": [
      "-0.5575108215121097\n",
      "238 µs ± 1.04 µs per loop (mean ± std. dev. of 7 runs, 1000 loops each)\n",
      "-0.5575108215121097\n",
      "2.79 ms ± 3.91 µs per loop (mean ± std. dev. of 7 runs, 100 loops each)\n",
      "a   -0.557511\n",
      "b   -2.718676\n",
      "c   -1.185416\n",
      "Name: information_ratio, dtype: float64\n",
      "10.8 ms ± 18.9 µs per loop (mean ± std. dev. of 7 runs, 100 loops each)\n",
      "5.49 ms ± 40.3 µs per loop (mean ± std. dev. of 7 runs, 1 loop each)\n",
      "                   a          b         c\n",
      "2018-01-01       NaN        NaN       NaN\n",
      "2018-01-02       NaN        NaN       NaN\n",
      "2018-01-03 -1.197205  -2.636038 -1.197205\n",
      "2018-01-04 -0.903634  -2.536990 -0.905136\n",
      "2018-01-05 -0.206482 -12.233912 -1.276646\n",
      "63.6 ms ± 210 µs per loop (mean ± std. dev. of 7 runs, 10 loops each)\n",
      "17.9 ms ± 94.7 µs per loop (mean ± std. dev. of 7 runs, 1 loop each)\n"
     ]
    }
   ],
   "source": [
    "print(empyrical.excess_sharpe(returns['a'], benchmark_rets))\n",
    "%timeit empyrical.excess_sharpe(big_returns[0], benchmark_rets)\n",
    "\n",
    "print(returns['a'].vbt.returns.information_ratio(benchmark_rets)) # will broadcast\n",
    "%timeit big_returns[0].vbt.returns.information_ratio(big_benchmark_rets)\n",
    "\n",
    "print(returns.vbt.returns.information_ratio(benchmark_rets))\n",
    "%timeit big_returns.vbt.returns.information_ratio(big_benchmark_rets, parallel=False)\n",
    "%timeit big_returns.vbt.returns.information_ratio(big_benchmark_rets, parallel=True)\n",
    "\n",
    "print(returns.vbt.returns.rolling_information_ratio(benchmark_rets, 3, minp=1))\n",
    "%timeit big_returns.vbt.returns.rolling_information_ratio(big_benchmark_rets, 10, minp=1, parallel=False)\n",
    "%timeit big_returns.vbt.returns.rolling_information_ratio(big_benchmark_rets, 10, minp=1, parallel=True)"
   ]
  },
  {
   "cell_type": "code",
   "execution_count": 23,
   "metadata": {},
   "outputs": [
    {
     "name": "stdout",
     "output_type": "stream",
     "text": [
      "0.7853755858374825\n",
      "733 µs ± 3.46 µs per loop (mean ± std. dev. of 7 runs, 1000 loops each)\n",
      "0.7853755858374827\n",
      "2.8 ms ± 7.39 µs per loop (mean ± std. dev. of 7 runs, 100 loops each)\n",
      "a    0.785376\n",
      "b    0.252235\n",
      "c    1.547239\n",
      "Name: beta, dtype: float64\n",
      "14.3 ms ± 14.8 µs per loop (mean ± std. dev. of 7 runs, 100 loops each)\n",
      "5.6 ms ± 179 µs per loop (mean ± std. dev. of 7 runs, 1 loop each)\n",
      "                   a         b         c\n",
      "2018-01-01       NaN       NaN       NaN\n",
      "2018-01-02       NaN       NaN       NaN\n",
      "2018-01-03       NaN       NaN       NaN\n",
      "2018-01-04       NaN       NaN       NaN\n",
      "2018-01-05  0.785376  0.252235  1.547239\n",
      "29.4 ms ± 227 µs per loop (mean ± std. dev. of 7 runs, 10 loops each)\n",
      "9.61 ms ± 226 µs per loop (mean ± std. dev. of 7 runs, 1 loop each)\n"
     ]
    }
   ],
   "source": [
    "print(empyrical.beta(returns['a'], benchmark_rets))\n",
    "%timeit empyrical.beta(big_returns[0], benchmark_rets)\n",
    "\n",
    "print(returns['a'].vbt.returns.beta(benchmark_rets))\n",
    "%timeit big_returns[0].vbt.returns.beta(big_benchmark_rets)\n",
    "\n",
    "print(returns.vbt.returns.beta(benchmark_rets))\n",
    "%timeit big_returns.vbt.returns.beta(big_benchmark_rets, parallel=False)\n",
    "%timeit big_returns.vbt.returns.beta(big_benchmark_rets, parallel=True)\n",
    "\n",
    "print(returns.vbt.returns.rolling_beta(benchmark_rets, 3, minp=1))\n",
    "%timeit big_returns.vbt.returns.rolling_beta(big_benchmark_rets, 10, minp=1, parallel=False)\n",
    "%timeit big_returns.vbt.returns.rolling_beta(big_benchmark_rets, 10, minp=1, parallel=True)"
   ]
  },
  {
   "cell_type": "code",
   "execution_count": 24,
   "metadata": {},
   "outputs": [
    {
     "name": "stdout",
     "output_type": "stream",
     "text": [
      "21533588.23721922\n",
      "948 µs ± 3.33 µs per loop (mean ± std. dev. of 7 runs, 1000 loops each)\n",
      "21533588.23721922\n",
      "2.83 ms ± 3.43 µs per loop (mean ± std. dev. of 7 runs, 100 loops each)\n",
      "a    2.153359e+07\n",
      "b   -1.000000e+00\n",
      "c   -1.000000e+00\n",
      "Name: alpha, dtype: float64\n",
      "8.74 ms ± 92.4 µs per loop (mean ± std. dev. of 7 runs, 1 loop each)\n",
      "8.77 ms ± 145 µs per loop (mean ± std. dev. of 7 runs, 100 loops each)\n",
      "                       a    b             c\n",
      "2018-01-01           NaN  NaN           NaN\n",
      "2018-01-02           NaN  NaN           NaN\n",
      "2018-01-03  1.221461e+07 -1.0  1.221461e+07\n",
      "2018-01-04  1.606598e+06 -1.0 -1.000000e+00\n",
      "2018-01-05  1.344192e+08 -1.0 -1.000000e+00\n",
      "44.5 ms ± 2.58 ms per loop (mean ± std. dev. of 7 runs, 1 loop each)\n",
      "45.7 ms ± 1.38 ms per loop (mean ± std. dev. of 7 runs, 10 loops each)\n"
     ]
    }
   ],
   "source": [
    "print(empyrical.alpha(returns['a'], benchmark_rets, risk_free=0.01))\n",
    "%timeit empyrical.alpha(big_returns[0], benchmark_rets, risk_free=0.01)\n",
    "\n",
    "print(returns['a'].vbt.returns.alpha(benchmark_rets, risk_free=0.01))\n",
    "%timeit big_returns[0].vbt.returns.alpha(big_benchmark_rets, risk_free=0.01)\n",
    "\n",
    "print(returns.vbt.returns.alpha(benchmark_rets, risk_free=0.01))\n",
    "%timeit big_returns.vbt.returns.alpha(big_benchmark_rets, risk_free=0.01, parallel=True)\n",
    "%timeit big_returns.vbt.returns.alpha(big_benchmark_rets, risk_free=0.01, parallel=True)\n",
    "\n",
    "print(returns.vbt.returns.rolling_alpha(benchmark_rets, 3, minp=1, risk_free=0.01))\n",
    "%timeit big_returns.vbt.returns.rolling_alpha(big_benchmark_rets, 10, minp=1, risk_free=0.01, parallel=True)\n",
    "%timeit big_returns.vbt.returns.rolling_alpha(big_benchmark_rets, 10, minp=1, risk_free=0.01, parallel=True)"
   ]
  },
  {
   "cell_type": "code",
   "execution_count": 25,
   "metadata": {},
   "outputs": [
    {
     "name": "stdout",
     "output_type": "stream",
     "text": [
      "3.523809523809523\n",
      "125 µs ± 513 ns per loop (mean ± std. dev. of 7 runs, 10000 loops each)\n",
      "3.523809523809523\n",
      "2.68 ms ± 7.51 µs per loop (mean ± std. dev. of 7 runs, 100 loops each)\n",
      "a    3.523810\n",
      "b    0.436842\n",
      "c    1.947368\n",
      "Name: tail_ratio, dtype: float64\n",
      "24.4 ms ± 295 µs per loop (mean ± std. dev. of 7 runs, 10 loops each)\n",
      "8.53 ms ± 255 µs per loop (mean ± std. dev. of 7 runs, 1 loop each)\n",
      "                   a         b         c\n",
      "2018-01-01       NaN       NaN       NaN\n",
      "2018-01-02  1.000000  1.000000  1.000000\n",
      "2018-01-03  1.857143  0.818182  1.857143\n",
      "2018-01-04  2.714286  0.630769  3.800000\n",
      "2018-01-05  1.870968  0.534483  0.862069\n",
      "132 ms ± 84.2 µs per loop (mean ± std. dev. of 7 runs, 10 loops each)\n",
      "31.8 ms ± 1.93 ms per loop (mean ± std. dev. of 7 runs, 1 loop each)\n",
      "1.4 s ± 3.74 ms per loop (mean ± std. dev. of 7 runs, 1 loop each)\n",
      "260 ms ± 6.08 ms per loop (mean ± std. dev. of 7 runs, 1 loop each)\n"
     ]
    }
   ],
   "source": [
    "print(empyrical.tail_ratio(returns['a']))\n",
    "%timeit empyrical.tail_ratio(big_returns[0])\n",
    "\n",
    "print(returns['a'].vbt.returns.tail_ratio())\n",
    "%timeit big_returns[0].vbt.returns.tail_ratio()\n",
    "\n",
    "print(returns.vbt.returns.tail_ratio())\n",
    "%timeit big_returns.vbt.returns.tail_ratio(parallel=False)\n",
    "%timeit big_returns.vbt.returns.tail_ratio(parallel=True)\n",
    "\n",
    "print(returns.vbt.returns.rolling_tail_ratio(3, minp=1))\n",
    "%timeit big_returns.vbt.returns.rolling_tail_ratio(10, minp=1, parallel=False)\n",
    "%timeit big_returns.vbt.returns.rolling_tail_ratio(10, minp=1, parallel=True)\n",
    "\n",
    "%timeit big_returns.vbt.returns.rolling_tail_ratio(100, minp=1, parallel=False)\n",
    "%timeit big_returns.vbt.returns.rolling_tail_ratio(100, minp=1, parallel=True)"
   ]
  },
  {
   "cell_type": "code",
   "execution_count": 26,
   "metadata": {},
   "outputs": [
    {
     "name": "stdout",
     "output_type": "stream",
     "text": [
      "0.2625\n",
      "63.7 µs ± 336 ns per loop (mean ± std. dev. of 7 runs, 10000 loops each)\n",
      "0.2625\n",
      "2.72 ms ± 38.3 µs per loop (mean ± std. dev. of 7 runs, 100 loops each)\n",
      "a    0.2625\n",
      "b   -0.4750\n",
      "c   -0.4750\n",
      "Name: value_at_risk, dtype: float64\n",
      "15 ms ± 935 µs per loop (mean ± std. dev. of 7 runs, 100 loops each)\n",
      "6.59 ms ± 154 µs per loop (mean ± std. dev. of 7 runs, 1 loop each)\n",
      "                   a         b         c\n",
      "2018-01-01       NaN       NaN       NaN\n",
      "2018-01-02  1.000000 -0.200000  1.000000\n",
      "2018-01-03  0.525000 -0.247500  0.525000\n",
      "2018-01-04  0.350000 -0.325000 -0.250000\n",
      "2018-01-05  0.258333 -0.483333 -0.483333\n",
      "78.8 ms ± 717 µs per loop (mean ± std. dev. of 7 runs, 10 loops each)\n",
      "19.2 ms ± 229 µs per loop (mean ± std. dev. of 7 runs, 1 loop each)\n"
     ]
    }
   ],
   "source": [
    "print(empyrical.value_at_risk(returns.iloc[1:]['a'], cutoff=0.05))\n",
    "%timeit empyrical.value_at_risk(big_returns[0], cutoff=0.05)\n",
    "\n",
    "print(returns['a'].vbt.returns.value_at_risk(cutoff=0.05))\n",
    "%timeit big_returns[0].vbt.returns.value_at_risk(cutoff=0.05)\n",
    "\n",
    "print(returns.vbt.returns.value_at_risk(cutoff=0.05))\n",
    "%timeit big_returns.vbt.returns.value_at_risk(cutoff=0.05, parallel=False)\n",
    "%timeit big_returns.vbt.returns.value_at_risk(cutoff=0.05, parallel=True)\n",
    "\n",
    "print(returns.vbt.returns.rolling_value_at_risk(3, minp=1, cutoff=0.05))\n",
    "%timeit big_returns.vbt.returns.rolling_value_at_risk(10, minp=1, cutoff=0.05, parallel=False)\n",
    "%timeit big_returns.vbt.returns.rolling_value_at_risk(10, minp=1, cutoff=0.05, parallel=True)"
   ]
  },
  {
   "cell_type": "code",
   "execution_count": 27,
   "metadata": {},
   "outputs": [
    {
     "name": "stdout",
     "output_type": "stream",
     "text": [
      "0.25\n",
      "19.8 µs ± 162 ns per loop (mean ± std. dev. of 7 runs, 100000 loops each)\n",
      "0.25\n",
      "2.67 ms ± 11 µs per loop (mean ± std. dev. of 7 runs, 100 loops each)\n",
      "a    0.25\n",
      "b   -0.50\n",
      "c   -0.50\n",
      "Name: cond_value_at_risk, dtype: float64\n",
      "14.8 ms ± 20.5 µs per loop (mean ± std. dev. of 7 runs, 100 loops each)\n",
      "5.99 ms ± 86.6 µs per loop (mean ± std. dev. of 7 runs, 1 loop each)\n",
      "                   a         b         c\n",
      "2018-01-01       NaN       NaN       NaN\n",
      "2018-01-02  1.000000 -0.200000  1.000000\n",
      "2018-01-03  0.500000 -0.250000  0.500000\n",
      "2018-01-04  0.333333 -0.333333 -0.333333\n",
      "2018-01-05  0.250000 -0.500000 -0.500000\n",
      "38.7 ms ± 3.38 ms per loop (mean ± std. dev. of 7 runs, 10 loops each)\n",
      "10.7 ms ± 246 µs per loop (mean ± std. dev. of 7 runs, 1 loop each)\n"
     ]
    }
   ],
   "source": [
    "print(empyrical.conditional_value_at_risk(returns.iloc[1:]['a'], cutoff=0.05))\n",
    "%timeit empyrical.conditional_value_at_risk(big_returns[0], cutoff=0.05)\n",
    "\n",
    "print(returns['a'].vbt.returns.cond_value_at_risk(cutoff=0.05))\n",
    "%timeit big_returns[0].vbt.returns.cond_value_at_risk(cutoff=0.05)\n",
    "\n",
    "print(returns.vbt.returns.cond_value_at_risk(cutoff=0.05))\n",
    "%timeit big_returns.vbt.returns.cond_value_at_risk(cutoff=0.05, parallel=False)\n",
    "%timeit big_returns.vbt.returns.cond_value_at_risk(cutoff=0.05, parallel=True)\n",
    "\n",
    "print(returns.vbt.returns.rolling_cond_value_at_risk(3, minp=1, cutoff=0.05))\n",
    "%timeit big_returns.vbt.returns.rolling_cond_value_at_risk(10, minp=1, cutoff=0.05, parallel=False)\n",
    "%timeit big_returns.vbt.returns.rolling_cond_value_at_risk(10, minp=1, cutoff=0.05, parallel=True)"
   ]
  },
  {
   "cell_type": "code",
   "execution_count": 28,
   "metadata": {},
   "outputs": [
    {
     "name": "stdout",
     "output_type": "stream",
     "text": [
      "0.0069170702789772874\n",
      "120 µs ± 571 ns per loop (mean ± std. dev. of 7 runs, 10000 loops each)\n",
      "0.0019948155055032196\n",
      "2.82 ms ± 7.87 µs per loop (mean ± std. dev. of 7 runs, 100 loops each)\n",
      "a    1.994816e-03\n",
      "b   -1.839893e-47\n",
      "c    0.000000e+00\n",
      "Name: capture, dtype: float64\n",
      "13.4 ms ± 12 µs per loop (mean ± std. dev. of 7 runs, 100 loops each)\n",
      "5.41 ms ± 408 µs per loop (mean ± std. dev. of 7 runs, 1 loop each)\n",
      "                       a             b             c\n",
      "2018-01-01           NaN           NaN           NaN\n",
      "2018-01-02  3.582444e-10 -4.950174e-86  3.582444e-10\n",
      "2018-01-03  4.074546e-07 -3.110292e-67  4.074546e-07\n",
      "2018-01-04  2.409369e-05 -6.439675e-56  1.245614e-30\n",
      "2018-01-05  3.535715e-01 -1.322868e-34 -1.322868e-34\n",
      "127 ms ± 1.31 ms per loop (mean ± std. dev. of 7 runs, 10 loops each)\n",
      "28.8 ms ± 1.83 ms per loop (mean ± std. dev. of 7 runs, 1 loop each)\n"
     ]
    }
   ],
   "source": [
    "print(empyrical.capture(returns['a'], benchmark_rets))\n",
    "%timeit empyrical.capture(big_returns[0], big_benchmark_rets)\n",
    "\n",
    "print(returns['a'].vbt.returns.capture(benchmark_rets))\n",
    "%timeit big_returns[0].vbt.returns.capture(big_benchmark_rets)\n",
    "\n",
    "print(returns.vbt.returns.capture(benchmark_rets))\n",
    "%timeit big_returns.vbt.returns.capture(big_benchmark_rets, parallel=False)\n",
    "%timeit big_returns.vbt.returns.capture(big_benchmark_rets, parallel=True)\n",
    "\n",
    "print(returns.vbt.returns.rolling_capture(benchmark_rets, 3, minp=1))\n",
    "%timeit big_returns.vbt.returns.rolling_capture(big_benchmark_rets, 10, minp=1, parallel=False)\n",
    "%timeit big_returns.vbt.returns.rolling_capture(big_benchmark_rets, 10, minp=1, parallel=True)"
   ]
  },
  {
   "cell_type": "code",
   "execution_count": 29,
   "metadata": {},
   "outputs": [
    {
     "name": "stdout",
     "output_type": "stream",
     "text": [
      "0.0019948155055032196\n",
      "381 µs ± 2.43 µs per loop (mean ± std. dev. of 7 runs, 1000 loops each)\n",
      "0.0019948155055032196\n",
      "3.43 ms ± 735 µs per loop (mean ± std. dev. of 7 runs, 100 loops each)\n",
      "a    1.994816e-03\n",
      "b             NaN\n",
      "c    2.410297e+13\n",
      "Name: up_capture, dtype: float64\n",
      "13 ms ± 339 µs per loop (mean ± std. dev. of 7 runs, 100 loops each)\n",
      "5.79 ms ± 569 µs per loop (mean ± std. dev. of 7 runs, 1 loop each)\n",
      "                       a   b             c\n",
      "2018-01-01           NaN NaN           NaN\n",
      "2018-01-02  3.582444e-10 NaN  3.582444e-10\n",
      "2018-01-03  4.074546e-07 NaN  4.074546e-07\n",
      "2018-01-04  2.409369e-05 NaN  8.436107e+04\n",
      "2018-01-05  3.535715e-01 NaN  3.136994e+10\n",
      "156 ms ± 1.74 ms per loop (mean ± std. dev. of 7 runs, 10 loops each)\n",
      "33.8 ms ± 894 µs per loop (mean ± std. dev. of 7 runs, 1 loop each)\n"
     ]
    }
   ],
   "source": [
    "print(empyrical.up_capture(returns['a'], benchmark_rets))\n",
    "%timeit empyrical.up_capture(big_returns[0], big_benchmark_rets)\n",
    "\n",
    "print(returns['a'].vbt.returns.up_capture(benchmark_rets))\n",
    "%timeit big_returns[0].vbt.returns.up_capture(big_benchmark_rets)\n",
    "\n",
    "print(returns.vbt.returns.up_capture(benchmark_rets))\n",
    "%timeit big_returns.vbt.returns.up_capture(big_benchmark_rets, parallel=False)\n",
    "%timeit big_returns.vbt.returns.up_capture(big_benchmark_rets, parallel=True)\n",
    "\n",
    "print(returns.vbt.returns.rolling_up_capture(benchmark_rets, 3, minp=1))\n",
    "%timeit big_returns.vbt.returns.rolling_up_capture(big_benchmark_rets, 10, minp=1, parallel=False)\n",
    "%timeit big_returns.vbt.returns.rolling_up_capture(big_benchmark_rets, 10, minp=1, parallel=True)"
   ]
  },
  {
   "cell_type": "code",
   "execution_count": 30,
   "metadata": {},
   "outputs": [
    {
     "name": "stdout",
     "output_type": "stream",
     "text": [
      "nan\n",
      "373 µs ± 1.47 µs per loop (mean ± std. dev. of 7 runs, 1000 loops each)\n",
      "nan\n",
      "2.82 ms ± 8.91 µs per loop (mean ± std. dev. of 7 runs, 100 loops each)\n",
      "a   NaN\n",
      "b   NaN\n",
      "c   NaN\n",
      "Name: down_capture, dtype: float64\n",
      "13.1 ms ± 430 µs per loop (mean ± std. dev. of 7 runs, 100 loops each)\n",
      "5.48 ms ± 234 µs per loop (mean ± std. dev. of 7 runs, 1 loop each)\n",
      "             a   b   c\n",
      "2018-01-01 NaN NaN NaN\n",
      "2018-01-02 NaN NaN NaN\n",
      "2018-01-03 NaN NaN NaN\n",
      "2018-01-04 NaN NaN NaN\n",
      "2018-01-05 NaN NaN NaN\n",
      "158 ms ± 3.06 ms per loop (mean ± std. dev. of 7 runs, 10 loops each)\n",
      "36 ms ± 540 µs per loop (mean ± std. dev. of 7 runs, 1 loop each)\n"
     ]
    }
   ],
   "source": [
    "print(empyrical.down_capture(returns['a'], benchmark_rets))\n",
    "%timeit empyrical.down_capture(big_returns[0], big_benchmark_rets)\n",
    "\n",
    "print(returns['a'].vbt.returns.down_capture(benchmark_rets))\n",
    "%timeit big_returns[0].vbt.returns.down_capture(big_benchmark_rets)\n",
    "\n",
    "print(returns.vbt.returns.down_capture(benchmark_rets))\n",
    "%timeit big_returns.vbt.returns.down_capture(big_benchmark_rets, parallel=False)\n",
    "%timeit big_returns.vbt.returns.down_capture(big_benchmark_rets, parallel=True)\n",
    "\n",
    "print(returns.vbt.returns.rolling_down_capture(benchmark_rets, 3, minp=1))\n",
    "%timeit big_returns.vbt.returns.rolling_down_capture(big_benchmark_rets, 10, minp=1, parallel=False)\n",
    "%timeit big_returns.vbt.returns.rolling_down_capture(big_benchmark_rets, 10, minp=1, parallel=True)"
   ]
  },
  {
   "cell_type": "code",
   "execution_count": 11,
   "metadata": {},
   "outputs": [
    {
     "name": "stdout",
     "output_type": "stream",
     "text": [
      "              a    b         c\n",
      "2018-01-01  0.0  0.0  0.000000\n",
      "2018-01-02  0.0 -0.2  0.000000\n",
      "2018-01-03  0.0 -0.4  0.000000\n",
      "2018-01-04  0.0 -0.6 -0.333333\n",
      "2018-01-05  0.0 -0.8 -0.666667\n",
      "11 ms ± 78.1 µs per loop (mean ± std. dev. of 7 runs, 100 loops each)\n",
      "4.86 ms ± 132 µs per loop (mean ± std. dev. of 7 runs, 1 loop each)\n"
     ]
    }
   ],
   "source": [
    "print(returns.vbt.returns.drawdown())\n",
    "\n",
    "%timeit big_returns.vbt.returns.drawdown(parallel=False)\n",
    "%timeit big_returns.vbt.returns.drawdown(parallel=True)"
   ]
  },
  {
   "cell_type": "code",
   "execution_count": 12,
   "metadata": {},
   "outputs": [
    {
     "name": "stdout",
     "output_type": "stream",
     "text": [
      "-0.8\n",
      "40 µs ± 440 ns per loop (mean ± std. dev. of 7 runs, 10000 loops each)\n",
      "-0.7999999999999999\n",
      "2.72 ms ± 37.1 µs per loop (mean ± std. dev. of 7 runs, 100 loops each)\n",
      "a    0.000000\n",
      "b   -0.800000\n",
      "c   -0.666667\n",
      "Name: max_drawdown, dtype: float64\n",
      "9.69 ms ± 14.7 µs per loop (mean ± std. dev. of 7 runs, 100 loops each)\n",
      "4.6 ms ± 452 µs per loop (mean ± std. dev. of 7 runs, 1 loop each)\n",
      "              a     b         c\n",
      "2018-01-01  NaN   NaN       NaN\n",
      "2018-01-02  0.0 -0.20  0.000000\n",
      "2018-01-03  0.0 -0.40  0.000000\n",
      "2018-01-04  0.0 -0.60 -0.333333\n",
      "2018-01-05  0.0 -0.75 -0.666667\n",
      "106 ms ± 424 µs per loop (mean ± std. dev. of 7 runs, 10 loops each)\n",
      "21.5 ms ± 329 µs per loop (mean ± std. dev. of 7 runs, 1 loop each)\n"
     ]
    }
   ],
   "source": [
    "print(empyrical.max_drawdown(returns['b']))\n",
    "%timeit empyrical.max_drawdown(big_returns[0])\n",
    "\n",
    "print(returns['b'].vbt.returns.max_drawdown())\n",
    "%timeit big_returns[0].vbt.returns.max_drawdown()\n",
    "\n",
    "print(returns.vbt.returns.max_drawdown())\n",
    "%timeit big_returns.vbt.returns.max_drawdown(parallel=False)\n",
    "%timeit big_returns.vbt.returns.max_drawdown(parallel=True)\n",
    "\n",
    "print(returns.vbt.returns.rolling_max_drawdown(3, minp=1))\n",
    "%timeit big_returns.vbt.returns.rolling_max_drawdown(10, minp=1, parallel=False)\n",
    "%timeit big_returns.vbt.returns.rolling_max_drawdown(10, minp=1, parallel=True)"
   ]
  },
  {
   "cell_type": "code",
   "execution_count": 38,
   "metadata": {},
   "outputs": [
    {
     "name": "stdout",
     "output_type": "stream",
     "text": [
      "Drawdowns(**Config({\n",
      "    \"wrapper\": \"<vectorbt.base.array_wrapper.ArrayWrapper object at 0x7fb4a0a65ef0> of shape (5, 3)\",\n",
      "    \"records_arr\": \"<numpy.ndarray object at 0x7fb4865b94e0> of shape (2,)\",\n",
      "    \"idx_field\": \"end_idx\",\n",
      "    \"col_mapper\": null,\n",
      "    \"ts\": \"<pandas.core.frame.DataFrame object at 0x7fb486d7a438> of shape (5, 3)\"\n",
      "}))\n",
      "11.3 ms ± 620 µs per loop (mean ± std. dev. of 7 runs, 10 loops each)\n",
      "a         NaN\n",
      "b   -0.800000\n",
      "c   -0.666667\n",
      "Name: max_drawdown, dtype: float64\n"
     ]
    }
   ],
   "source": [
    "print(returns.vbt.returns.drawdowns)\n",
    "%timeit big_returns.vbt.returns.drawdowns\n",
    "\n",
    "print(returns.vbt.returns.drawdowns.max_drawdown())"
   ]
  },
  {
   "cell_type": "code",
   "execution_count": 42,
   "metadata": {},
   "outputs": [
    {
     "name": "stdout",
     "output_type": "stream",
     "text": [
      "Start                        2018-01-01 00:00:00\n",
      "End                          2018-01-05 00:00:00\n",
      "Period                           5 days 00:00:00\n",
      "Total Return [%]                      -79.999999\n",
      "Benchmark Return [%]                   451.85973\n",
      "Annualized Return [%]                     -100.0\n",
      "Annualized Volatility [%]               83.05873\n",
      "Max Drawdown [%]                       79.999999\n",
      "Max Drawdown Duration            4 days 00:00:00\n",
      "Sharpe Ratio                          -39.938439\n",
      "Calmar Ratio                               -1.25\n",
      "Omega Ratio                                  0.0\n",
      "Sortino Ratio                         -15.323369\n",
      "Skew                                   -1.065369\n",
      "Kurtosis                                0.645216\n",
      "Tail Ratio                              0.436842\n",
      "Common Sense Ratio                           0.0\n",
      "Value at Risk                             -0.475\n",
      "Alpha                                       -1.0\n",
      "Beta                                    0.252235\n",
      "Name: b, dtype: object\n",
      "48.8 ms ± 623 µs per loop (mean ± std. dev. of 7 runs, 10 loops each)\n",
      "Start                                            2018-01-01 00:00:00\n",
      "End                                              2018-01-05 00:00:00\n",
      "Period                                               5 days 00:00:00\n",
      "Total Return [%]                                          106.666673\n",
      "Benchmark Return [%]                                       451.85973\n",
      "Annualized Return [%]        5635956288557277813711347645725802496.0\n",
      "Annualized Volatility [%]                                 247.292207\n",
      "Max Drawdown [%]                                           73.333332\n",
      "Max Drawdown Duration                                3 days 00:00:00\n",
      "Sharpe Ratio                                               -4.093819\n",
      "Calmar Ratio                                               -0.624999\n",
      "Omega Ratio                                                      inf\n",
      "Sortino Ratio                                                    inf\n",
      "Skew                                                        0.256871\n",
      "Kurtosis                                                   -0.254095\n",
      "Tail Ratio                                                   1.96934\n",
      "Common Sense Ratio            198600359944397791384906716353134592.0\n",
      "Value at Risk                                              -0.229167\n",
      "Alpha                                                 7177868.753186\n",
      "Beta                                                        0.861616\n",
      "Name: agg_func_mean, dtype: object\n"
     ]
    },
    {
     "name": "stderr",
     "output_type": "stream",
     "text": [
      "/Users/olegpolakow/miniconda3/lib/python3.7/site-packages/ipykernel_launcher.py:6: UserWarning: Object has multiple columns. Aggregating using <function mean at 0x7fb48139f9d8>. Pass column to select a single column/group.\n",
      "  \n"
     ]
    },
    {
     "name": "stdout",
     "output_type": "stream",
     "text": [
      "207 ms ± 2.43 ms per loop (mean ± std. dev. of 7 runs, 10 loops each)\n"
     ]
    }
   ],
   "source": [
    "print(returns['b'].vbt.returns.stats(\n",
    "    settings=dict(benchmark_rets=benchmark_rets, levy_alpha=3., risk_free=0.01, required_return=0.1)))\n",
    "%timeit big_returns[0].vbt.returns.stats(\\\n",
    "    silence_warnings=True,\\\n",
    "    settings=dict(benchmark_rets=big_benchmark_rets, levy_alpha=3., risk_free=0.01, required_return=0.1))\n",
    "\n",
    "print(returns.vbt.returns.stats(\n",
    "    settings=dict(benchmark_rets=benchmark_rets, levy_alpha=3., risk_free=0.01, required_return=0.1)))\n",
    "%timeit big_returns.vbt.returns.stats(\\\n",
    "    silence_warnings=True,\\\n",
    "    settings=dict(benchmark_rets=big_benchmark_rets, levy_alpha=3., risk_free=0.01, required_return=0.1))"
   ]
  },
  {
   "cell_type": "code",
   "execution_count": 43,
   "metadata": {},
   "outputs": [
    {
     "data": {
      "image/svg+xml": [
       "<svg class=\"main-svg\" xmlns=\"http://www.w3.org/2000/svg\" xmlns:xlink=\"http://www.w3.org/1999/xlink\" width=\"700\" height=\"350\" style=\"\" viewBox=\"0 0 700 350\"><rect x=\"0\" y=\"0\" width=\"700\" height=\"350\" style=\"fill: rgb(255, 255, 255); fill-opacity: 1;\"/><defs id=\"defs-01b39a\"><g class=\"clips\"><clipPath id=\"clip01b39axyplot\" class=\"plotclip\"><rect width=\"640\" height=\"261\"/></clipPath><clipPath class=\"axesclip\" id=\"clip01b39ax\"><rect x=\"30\" y=\"0\" width=\"640\" height=\"350\"/></clipPath><clipPath class=\"axesclip\" id=\"clip01b39ay\"><rect x=\"0\" y=\"46\" width=\"700\" height=\"261\"/></clipPath><clipPath class=\"axesclip\" id=\"clip01b39axy\"><rect x=\"30\" y=\"46\" width=\"640\" height=\"261\"/></clipPath></g><g class=\"gradients\"/></defs><g class=\"bglayer\"><rect class=\"bg\" x=\"30\" y=\"46\" width=\"640\" height=\"261\" style=\"fill: rgb(229, 236, 246); fill-opacity: 1; stroke-width: 0;\"/></g><g class=\"layer-below\"><g class=\"imagelayer\"/><g class=\"shapelayer\"/></g><g class=\"cartesianlayer\"><g class=\"subplot xy\"><g class=\"layer-subplot\"><g class=\"shapelayer\"/><g class=\"imagelayer\"/></g><g class=\"gridlayer\"><g class=\"x\"><path class=\"xgrid crisp\" transform=\"translate(65.75,0)\" d=\"M0,46v261\" style=\"stroke: rgb(255, 255, 255); stroke-opacity: 1; stroke-width: 1px;\"/><path class=\"xgrid crisp\" transform=\"translate(207.87,0)\" d=\"M0,46v261\" style=\"stroke: rgb(255, 255, 255); stroke-opacity: 1; stroke-width: 1px;\"/><path class=\"xgrid crisp\" transform=\"translate(350,0)\" d=\"M0,46v261\" style=\"stroke: rgb(255, 255, 255); stroke-opacity: 1; stroke-width: 1px;\"/><path class=\"xgrid crisp\" transform=\"translate(492.13,0)\" d=\"M0,46v261\" style=\"stroke: rgb(255, 255, 255); stroke-opacity: 1; stroke-width: 1px;\"/><path class=\"xgrid crisp\" transform=\"translate(634.25,0)\" d=\"M0,46v261\" style=\"stroke: rgb(255, 255, 255); stroke-opacity: 1; stroke-width: 1px;\"/></g><g class=\"y\"><path class=\"ygrid crisp\" transform=\"translate(0,290.2)\" d=\"M30,0h640\" style=\"stroke: rgb(255, 255, 255); stroke-opacity: 1; stroke-width: 1px;\"/><path class=\"ygrid crisp\" transform=\"translate(0,239.87)\" d=\"M30,0h640\" style=\"stroke: rgb(255, 255, 255); stroke-opacity: 1; stroke-width: 1px;\"/><path class=\"ygrid crisp\" transform=\"translate(0,189.55)\" d=\"M30,0h640\" style=\"stroke: rgb(255, 255, 255); stroke-opacity: 1; stroke-width: 1px;\"/><path class=\"ygrid crisp\" transform=\"translate(0,139.22)\" d=\"M30,0h640\" style=\"stroke: rgb(255, 255, 255); stroke-opacity: 1; stroke-width: 1px;\"/><path class=\"ygrid crisp\" transform=\"translate(0,88.9)\" d=\"M30,0h640\" style=\"stroke: rgb(255, 255, 255); stroke-opacity: 1; stroke-width: 1px;\"/></g></g><g class=\"zerolinelayer\"/><path class=\"xlines-below\"/><path class=\"ylines-below\"/><g class=\"overlines-below\"/><g class=\"xaxislayer-below\"/><g class=\"yaxislayer-below\"/><g class=\"overaxes-below\"/><g class=\"plot\" transform=\"translate(30,46)\" clip-path=\"url('#clip01b39axyplot')\"><g class=\"scatterlayer mlayer\"><g class=\"trace scatter traced848fdf4-b652-49b3-8e72-dc13b1d715c5\" style=\"stroke-miterlimit: 2; opacity: 1;\"><g class=\"fills\"/><g class=\"errorbars\"/><g class=\"lines\"><path class=\"js-line\" d=\"M35.75,244.2L462.13,66.06L604.25,16.8\" style=\"vector-effect: non-scaling-stroke; fill: none; stroke: rgb(127, 127, 127); stroke-opacity: 1; stroke-width: 2px; opacity: 1;\"/></g><g class=\"points\"><path class=\"point\" transform=\"translate(35.75,244.2)\" d=\"M3,0A3,3 0 1,1 0,-3A3,3 0 0,1 3,0Z\" style=\"opacity: 1; stroke-width: 0px; fill: rgb(127, 127, 127); fill-opacity: 1;\"/><path class=\"point\" transform=\"translate(177.87,184.8)\" d=\"M3,0A3,3 0 1,1 0,-3A3,3 0 0,1 3,0Z\" style=\"opacity: 1; stroke-width: 0px; fill: rgb(127, 127, 127); fill-opacity: 1;\"/><path class=\"point\" transform=\"translate(320,124.85)\" d=\"M3,0A3,3 0 1,1 0,-3A3,3 0 0,1 3,0Z\" style=\"opacity: 1; stroke-width: 0px; fill: rgb(127, 127, 127); fill-opacity: 1;\"/><path class=\"point\" transform=\"translate(462.13,66.06)\" d=\"M3,0A3,3 0 1,1 0,-3A3,3 0 0,1 3,0Z\" style=\"opacity: 1; stroke-width: 0px; fill: rgb(127, 127, 127); fill-opacity: 1;\"/><path class=\"point\" transform=\"translate(604.25,16.8)\" d=\"M3,0A3,3 0 1,1 0,-3A3,3 0 0,1 3,0Z\" style=\"opacity: 1; stroke-width: 0px; fill: rgb(127, 127, 127); fill-opacity: 1;\"/></g><g class=\"text\"/></g><g class=\"trace scatter trace1dd2e99c-7749-46cc-abb1-1f266c7a8b67\" style=\"stroke-miterlimit: 2;\"><g class=\"fills\"><g><path class=\"js-fill\" d=\"M35.75,244.2L604.25,42.9L604.25,244.2L35.75,244.2Z\" style=\"fill: rgb(0, 128, 0); fill-opacity: 0.3; stroke-width: 0;\"/></g></g><g class=\"errorbars\"/><g class=\"lines\"><path class=\"js-line\" d=\"M35.75,244.2L604.25,244.2\" style=\"vector-effect: non-scaling-stroke; fill: none; stroke: rgb(0, 0, 0); stroke-opacity: 0; stroke-width: 0px; opacity: 1;\"/></g><g class=\"points\"><path class=\"point\" transform=\"translate(35.75,244.2)\" d=\"M3,0A3,3 0 1,1 0,-3A3,3 0 0,1 3,0Z\" style=\"opacity: 1; stroke-width: 0px; fill: rgb(0, 0, 0); fill-opacity: 0;\"/><path class=\"point\" transform=\"translate(177.87,244.2)\" d=\"M3,0A3,3 0 1,1 0,-3A3,3 0 0,1 3,0Z\" style=\"opacity: 1; stroke-width: 0px; fill: rgb(0, 0, 0); fill-opacity: 0;\"/><path class=\"point\" transform=\"translate(320,244.2)\" d=\"M3,0A3,3 0 1,1 0,-3A3,3 0 0,1 3,0Z\" style=\"opacity: 1; stroke-width: 0px; fill: rgb(0, 0, 0); fill-opacity: 0;\"/><path class=\"point\" transform=\"translate(462.13,244.2)\" d=\"M3,0A3,3 0 1,1 0,-3A3,3 0 0,1 3,0Z\" style=\"opacity: 1; stroke-width: 0px; fill: rgb(0, 0, 0); fill-opacity: 0;\"/><path class=\"point\" transform=\"translate(604.25,244.2)\" d=\"M3,0A3,3 0 1,1 0,-3A3,3 0 0,1 3,0Z\" style=\"opacity: 1; stroke-width: 0px; fill: rgb(0, 0, 0); fill-opacity: 0;\"/></g><g class=\"text\"/></g><g class=\"trace scatter trace08a92a94-6672-4b38-afa9-37f53c4a0e06\" style=\"stroke-miterlimit: 2;\"><g class=\"fills\"/><g class=\"errorbars\"/><g class=\"lines\"><path class=\"js-line\" d=\"M35.75,244.2L604.25,42.9\" style=\"vector-effect: non-scaling-stroke; fill: none; stroke: rgb(0, 0, 0); stroke-opacity: 0; stroke-width: 0px; opacity: 1;\"/></g><g class=\"points\"><path class=\"point\" transform=\"translate(35.75,244.2)\" d=\"M3,0A3,3 0 1,1 0,-3A3,3 0 0,1 3,0Z\" style=\"opacity: 1; stroke-width: 0px; fill: rgb(0, 0, 0); fill-opacity: 0;\"/><path class=\"point\" transform=\"translate(177.87,193.87)\" d=\"M3,0A3,3 0 1,1 0,-3A3,3 0 0,1 3,0Z\" style=\"opacity: 1; stroke-width: 0px; fill: rgb(0, 0, 0); fill-opacity: 0;\"/><path class=\"point\" transform=\"translate(320,143.55)\" d=\"M3,0A3,3 0 1,1 0,-3A3,3 0 0,1 3,0Z\" style=\"opacity: 1; stroke-width: 0px; fill: rgb(0, 0, 0); fill-opacity: 0;\"/><path class=\"point\" transform=\"translate(462.13,93.22)\" d=\"M3,0A3,3 0 1,1 0,-3A3,3 0 0,1 3,0Z\" style=\"opacity: 1; stroke-width: 0px; fill: rgb(0, 0, 0); fill-opacity: 0;\"/><path class=\"point\" transform=\"translate(604.25,42.9)\" d=\"M3,0A3,3 0 1,1 0,-3A3,3 0 0,1 3,0Z\" style=\"opacity: 1; stroke-width: 0px; fill: rgb(0, 0, 0); fill-opacity: 0;\"/></g><g class=\"text\"/></g><g class=\"trace scatter trace12ed6016-02f8-41c3-b11f-8133203755d6\" style=\"stroke-miterlimit: 2; opacity: 1;\"><g class=\"fills\"/><g class=\"errorbars\"/><g class=\"lines\"><path class=\"js-line\" d=\"M35.75,244.2L604.25,42.9\" style=\"vector-effect: non-scaling-stroke; fill: none; stroke: rgb(148, 103, 189); stroke-opacity: 1; stroke-width: 2px; opacity: 1;\"/></g><g class=\"points\"><path class=\"point\" transform=\"translate(35.75,244.2)\" d=\"M3,0A3,3 0 1,1 0,-3A3,3 0 0,1 3,0Z\" style=\"opacity: 1; stroke-width: 0px; fill: rgb(148, 103, 189); fill-opacity: 1;\"/><path class=\"point\" transform=\"translate(177.87,193.87)\" d=\"M3,0A3,3 0 1,1 0,-3A3,3 0 0,1 3,0Z\" style=\"opacity: 1; stroke-width: 0px; fill: rgb(148, 103, 189); fill-opacity: 1;\"/><path class=\"point\" transform=\"translate(320,143.55)\" d=\"M3,0A3,3 0 1,1 0,-3A3,3 0 0,1 3,0Z\" style=\"opacity: 1; stroke-width: 0px; fill: rgb(148, 103, 189); fill-opacity: 1;\"/><path class=\"point\" transform=\"translate(462.13,93.22)\" d=\"M3,0A3,3 0 1,1 0,-3A3,3 0 0,1 3,0Z\" style=\"opacity: 1; stroke-width: 0px; fill: rgb(148, 103, 189); fill-opacity: 1;\"/><path class=\"point\" transform=\"translate(604.25,42.9)\" d=\"M3,0A3,3 0 1,1 0,-3A3,3 0 0,1 3,0Z\" style=\"opacity: 1; stroke-width: 0px; fill: rgb(148, 103, 189); fill-opacity: 1;\"/></g><g class=\"text\"/></g><g class=\"trace scatter trace4415e5fa-c2e1-4db5-9baf-866ba3f6fa1f\" style=\"stroke-miterlimit: 2; opacity: 0;\"><g class=\"fills\"/><g class=\"errorbars\"/><g class=\"lines\"><path class=\"js-line\" d=\"M35.75,244.2L604.25,244.2\" style=\"vector-effect: non-scaling-stroke; fill: none; stroke: rgb(0, 0, 0); stroke-opacity: 0; stroke-width: 0px; opacity: 1;\"/></g><g class=\"points\"><path class=\"point\" transform=\"translate(35.75,244.2)\" d=\"M3,0A3,3 0 1,1 0,-3A3,3 0 0,1 3,0Z\" style=\"opacity: 1; stroke-width: 0px; fill: rgb(0, 0, 0); fill-opacity: 0;\"/><path class=\"point\" transform=\"translate(177.87,244.2)\" d=\"M3,0A3,3 0 1,1 0,-3A3,3 0 0,1 3,0Z\" style=\"opacity: 1; stroke-width: 0px; fill: rgb(0, 0, 0); fill-opacity: 0;\"/><path class=\"point\" transform=\"translate(320,244.2)\" d=\"M3,0A3,3 0 1,1 0,-3A3,3 0 0,1 3,0Z\" style=\"opacity: 1; stroke-width: 0px; fill: rgb(0, 0, 0); fill-opacity: 0;\"/><path class=\"point\" transform=\"translate(462.13,244.2)\" d=\"M3,0A3,3 0 1,1 0,-3A3,3 0 0,1 3,0Z\" style=\"opacity: 1; stroke-width: 0px; fill: rgb(0, 0, 0); fill-opacity: 0;\"/><path class=\"point\" transform=\"translate(604.25,244.2)\" d=\"M3,0A3,3 0 1,1 0,-3A3,3 0 0,1 3,0Z\" style=\"opacity: 1; stroke-width: 0px; fill: rgb(0, 0, 0); fill-opacity: 0;\"/></g><g class=\"text\"/></g></g></g><g class=\"overplot\"/><path class=\"xlines-above crisp\" d=\"M0,0\" style=\"fill: none;\"/><path class=\"ylines-above crisp\" d=\"M0,0\" style=\"fill: none;\"/><g class=\"overlines-above\"/><g class=\"xaxislayer-above\"><g class=\"xtick\"><text text-anchor=\"middle\" x=\"0\" y=\"320\" transform=\"translate(65.75,0)\" style=\"font-family: 'Open Sans', verdana, arial, sans-serif; font-size: 12px; fill: rgb(42, 63, 95); fill-opacity: 1; white-space: pre;\"><tspan class=\"line\" dy=\"0em\" x=\"0\" y=\"320\">Jan 1</tspan><tspan class=\"line\" dy=\"1.3em\" x=\"0\" y=\"320\">2018</tspan></text></g><g class=\"xtick\"><text text-anchor=\"middle\" x=\"0\" y=\"320\" transform=\"translate(207.87,0)\" style=\"font-family: 'Open Sans', verdana, arial, sans-serif; font-size: 12px; fill: rgb(42, 63, 95); fill-opacity: 1; white-space: pre;\">Jan 2</text></g><g class=\"xtick\"><text text-anchor=\"middle\" x=\"0\" y=\"320\" transform=\"translate(350,0)\" style=\"font-family: 'Open Sans', verdana, arial, sans-serif; font-size: 12px; fill: rgb(42, 63, 95); fill-opacity: 1; white-space: pre;\">Jan 3</text></g><g class=\"xtick\"><text text-anchor=\"middle\" x=\"0\" y=\"320\" transform=\"translate(492.13,0)\" style=\"font-family: 'Open Sans', verdana, arial, sans-serif; font-size: 12px; fill: rgb(42, 63, 95); fill-opacity: 1; white-space: pre;\">Jan 4</text></g><g class=\"xtick\"><text text-anchor=\"middle\" x=\"0\" y=\"320\" transform=\"translate(634.25,0)\" style=\"font-family: 'Open Sans', verdana, arial, sans-serif; font-size: 12px; fill: rgb(42, 63, 95); fill-opacity: 1; white-space: pre;\">Jan 5</text></g></g><g class=\"yaxislayer-above\"><g class=\"ytick\"><text text-anchor=\"end\" x=\"29\" y=\"4.199999999999999\" transform=\"translate(0,290.2)\" style=\"font-family: 'Open Sans', verdana, arial, sans-serif; font-size: 12px; fill: rgb(42, 63, 95); fill-opacity: 1; white-space: pre;\">1</text></g><g class=\"ytick\"><text text-anchor=\"end\" x=\"29\" y=\"4.199999999999999\" transform=\"translate(0,239.87)\" style=\"font-family: 'Open Sans', verdana, arial, sans-serif; font-size: 12px; fill: rgb(42, 63, 95); fill-opacity: 1; white-space: pre;\">2</text></g><g class=\"ytick\"><text text-anchor=\"end\" x=\"29\" y=\"4.199999999999999\" transform=\"translate(0,189.55)\" style=\"font-family: 'Open Sans', verdana, arial, sans-serif; font-size: 12px; fill: rgb(42, 63, 95); fill-opacity: 1; white-space: pre;\">3</text></g><g class=\"ytick\"><text text-anchor=\"end\" x=\"29\" y=\"4.199999999999999\" transform=\"translate(0,139.22)\" style=\"font-family: 'Open Sans', verdana, arial, sans-serif; font-size: 12px; fill: rgb(42, 63, 95); fill-opacity: 1; white-space: pre;\">4</text></g><g class=\"ytick\"><text text-anchor=\"end\" x=\"29\" y=\"4.199999999999999\" transform=\"translate(0,88.9)\" style=\"font-family: 'Open Sans', verdana, arial, sans-serif; font-size: 12px; fill: rgb(42, 63, 95); fill-opacity: 1; white-space: pre;\">5</text></g></g><g class=\"overaxes-above\"/></g></g><g class=\"polarlayer\"/><g class=\"ternarylayer\"/><g class=\"geolayer\"/><g class=\"funnelarealayer\"/><g class=\"pielayer\"/><g class=\"treemaplayer\"/><g class=\"sunburstlayer\"/><g class=\"glimages\"/><defs id=\"topdefs-01b39a\"><g class=\"clips\"/><clipPath id=\"legend01b39a\"><rect width=\"166\" height=\"29\" x=\"0\" y=\"0\"/></clipPath></defs><g class=\"layer-above\"><g class=\"imagelayer\"/><g class=\"shapelayer\"><path data-index=\"0\" fill-rule=\"evenodd\" d=\"M30,290.2L670,290.2\" clip-path=\"url('#clip01b39ay')\" style=\"opacity: 1; stroke: rgb(128, 128, 128); stroke-opacity: 1; fill: rgb(0, 0, 0); fill-opacity: 0; stroke-dasharray: 9px, 9px; stroke-width: 2px;\"/></g></g><g class=\"infolayer\"><g class=\"legend\" pointer-events=\"all\" transform=\"translate(504,11.779999999999994)\"><rect class=\"bg\" shape-rendering=\"crispEdges\" style=\"stroke: rgb(68, 68, 68); stroke-opacity: 1; fill: rgb(255, 255, 255); fill-opacity: 1; stroke-width: 0px;\" width=\"166\" height=\"29\" x=\"0\" y=\"0\"/><g class=\"scrollbox\" transform=\"\" clip-path=\"url('#legend01b39a')\"><g class=\"groups\"><g class=\"traces\" transform=\"translate(0,14.5)\" style=\"opacity: 1;\"><text class=\"legendtext\" text-anchor=\"start\" x=\"40\" y=\"4.680000000000001\" style=\"font-family: 'Open Sans', verdana, arial, sans-serif; font-size: 12px; fill: rgb(42, 63, 95); fill-opacity: 1; white-space: pre;\">Benchmark</text><g class=\"layers\" style=\"opacity: 1;\"><g class=\"legendfill\"/><g class=\"legendlines\"><path class=\"js-line\" d=\"M5,0h30\" style=\"fill: none; stroke: rgb(127, 127, 127); stroke-opacity: 1; stroke-width: 2px;\"/></g><g class=\"legendsymbols\"><g class=\"legendpoints\"><path class=\"scatterpts\" transform=\"translate(20,0)\" d=\"M3,0A3,3 0 1,1 0,-3A3,3 0 0,1 3,0Z\" style=\"opacity: 1; stroke-width: 0px; fill: rgb(127, 127, 127); fill-opacity: 1;\"/></g></g></g><rect class=\"legendtoggle\" x=\"0\" y=\"-9.5\" width=\"110.421875\" height=\"19\" style=\"fill: rgb(0, 0, 0); fill-opacity: 0;\"/></g><g class=\"traces\" transform=\"translate(112.921875,14.5)\" style=\"opacity: 1;\"><text class=\"legendtext\" text-anchor=\"start\" x=\"40\" y=\"4.680000000000001\" style=\"font-family: 'Open Sans', verdana, arial, sans-serif; font-size: 12px; fill: rgb(42, 63, 95); fill-opacity: 1; white-space: pre;\">a</text><g class=\"layers\" style=\"opacity: 1;\"><g class=\"legendfill\"/><g class=\"legendlines\"><path class=\"js-line\" d=\"M5,0h30\" style=\"fill: none; stroke: rgb(148, 103, 189); stroke-opacity: 1; stroke-width: 2px;\"/></g><g class=\"legendsymbols\"><g class=\"legendpoints\"><path class=\"scatterpts\" transform=\"translate(20,0)\" d=\"M3,0A3,3 0 1,1 0,-3A3,3 0 0,1 3,0Z\" style=\"opacity: 1; stroke-width: 0px; fill: rgb(148, 103, 189); fill-opacity: 1;\"/></g></g></g><rect class=\"legendtoggle\" x=\"0\" y=\"-9.5\" width=\"49.71875\" height=\"19\" style=\"fill: rgb(0, 0, 0); fill-opacity: 0;\"/></g></g></g><rect class=\"scrollbar\" rx=\"20\" ry=\"3\" width=\"0\" height=\"0\" style=\"fill: rgb(128, 139, 164); fill-opacity: 1;\" x=\"0\" y=\"0\"/></g><g class=\"g-gtitle\"/><g class=\"g-xtitle\"/><g class=\"g-ytitle\"/></g></svg>"
      ]
     },
     "metadata": {},
     "output_type": "display_data"
    }
   ],
   "source": [
    "returns['a'].vbt.returns.plot_cumulative(benchmark_rets).show_svg()"
   ]
  },
  {
   "cell_type": "code",
   "execution_count": 44,
   "metadata": {},
   "outputs": [
    {
     "data": {
      "image/svg+xml": [
       "<svg class=\"main-svg\" xmlns=\"http://www.w3.org/2000/svg\" xmlns:xlink=\"http://www.w3.org/1999/xlink\" width=\"700\" height=\"350\" style=\"\" viewBox=\"0 0 700 350\"><rect x=\"0\" y=\"0\" width=\"700\" height=\"350\" style=\"fill: rgb(255, 255, 255); fill-opacity: 1;\"/><defs id=\"defs-5bdfde\"><g class=\"clips\"><clipPath id=\"clip5bdfdexyplot\" class=\"plotclip\"><rect width=\"640\" height=\"261\"/></clipPath><clipPath class=\"axesclip\" id=\"clip5bdfdex\"><rect x=\"30\" y=\"0\" width=\"640\" height=\"350\"/></clipPath><clipPath class=\"axesclip\" id=\"clip5bdfdey\"><rect x=\"0\" y=\"46\" width=\"700\" height=\"261\"/></clipPath><clipPath class=\"axesclip\" id=\"clip5bdfdexy\"><rect x=\"30\" y=\"46\" width=\"640\" height=\"261\"/></clipPath></g><g class=\"gradients\"/></defs><g class=\"bglayer\"><rect class=\"bg\" x=\"30\" y=\"46\" width=\"640\" height=\"261\" style=\"fill: rgb(229, 236, 246); fill-opacity: 1; stroke-width: 0;\"/></g><g class=\"layer-below\"><g class=\"imagelayer\"/><g class=\"shapelayer\"/></g><g class=\"cartesianlayer\"><g class=\"subplot xy\"><g class=\"layer-subplot\"><g class=\"shapelayer\"/><g class=\"imagelayer\"/></g><g class=\"gridlayer\"><g class=\"x\"><path class=\"xgrid crisp\" transform=\"translate(65.75,0)\" d=\"M0,46v261\" style=\"stroke: rgb(255, 255, 255); stroke-opacity: 1; stroke-width: 1px;\"/><path class=\"xgrid crisp\" transform=\"translate(207.87,0)\" d=\"M0,46v261\" style=\"stroke: rgb(255, 255, 255); stroke-opacity: 1; stroke-width: 1px;\"/><path class=\"xgrid crisp\" transform=\"translate(350,0)\" d=\"M0,46v261\" style=\"stroke: rgb(255, 255, 255); stroke-opacity: 1; stroke-width: 1px;\"/><path class=\"xgrid crisp\" transform=\"translate(492.13,0)\" d=\"M0,46v261\" style=\"stroke: rgb(255, 255, 255); stroke-opacity: 1; stroke-width: 1px;\"/><path class=\"xgrid crisp\" transform=\"translate(634.25,0)\" d=\"M0,46v261\" style=\"stroke: rgb(255, 255, 255); stroke-opacity: 1; stroke-width: 1px;\"/></g><g class=\"y\"><path class=\"ygrid crisp\" transform=\"translate(0,290.2)\" d=\"M30,0h640\" style=\"stroke: rgb(255, 255, 255); stroke-opacity: 1; stroke-width: 1px;\"/><path class=\"ygrid crisp\" transform=\"translate(0,239.87)\" d=\"M30,0h640\" style=\"stroke: rgb(255, 255, 255); stroke-opacity: 1; stroke-width: 1px;\"/><path class=\"ygrid crisp\" transform=\"translate(0,189.55)\" d=\"M30,0h640\" style=\"stroke: rgb(255, 255, 255); stroke-opacity: 1; stroke-width: 1px;\"/><path class=\"ygrid crisp\" transform=\"translate(0,139.22)\" d=\"M30,0h640\" style=\"stroke: rgb(255, 255, 255); stroke-opacity: 1; stroke-width: 1px;\"/><path class=\"ygrid crisp\" transform=\"translate(0,88.9)\" d=\"M30,0h640\" style=\"stroke: rgb(255, 255, 255); stroke-opacity: 1; stroke-width: 1px;\"/></g></g><g class=\"zerolinelayer\"/><path class=\"xlines-below\"/><path class=\"ylines-below\"/><g class=\"overlines-below\"/><g class=\"xaxislayer-below\"/><g class=\"yaxislayer-below\"/><g class=\"overaxes-below\"/><g class=\"plot\" transform=\"translate(30,46)\" clip-path=\"url('#clip5bdfdexyplot')\"><g class=\"scatterlayer mlayer\"><g class=\"trace scatter tracef0e45c32-cbcd-4226-9d32-d05a2e366154\" style=\"stroke-miterlimit: 2; opacity: 1;\"><g class=\"fills\"/><g class=\"errorbars\"/><g class=\"lines\"><path class=\"js-line\" d=\"M35.75,244.2L462.13,66.06L604.25,16.8\" style=\"vector-effect: non-scaling-stroke; fill: none; stroke: rgb(127, 127, 127); stroke-opacity: 1; stroke-width: 2px; opacity: 1;\"/></g><g class=\"points\"><path class=\"point\" transform=\"translate(35.75,244.2)\" d=\"M3,0A3,3 0 1,1 0,-3A3,3 0 0,1 3,0Z\" style=\"opacity: 1; stroke-width: 0px; fill: rgb(127, 127, 127); fill-opacity: 1;\"/><path class=\"point\" transform=\"translate(177.87,184.8)\" d=\"M3,0A3,3 0 1,1 0,-3A3,3 0 0,1 3,0Z\" style=\"opacity: 1; stroke-width: 0px; fill: rgb(127, 127, 127); fill-opacity: 1;\"/><path class=\"point\" transform=\"translate(320,124.85)\" d=\"M3,0A3,3 0 1,1 0,-3A3,3 0 0,1 3,0Z\" style=\"opacity: 1; stroke-width: 0px; fill: rgb(127, 127, 127); fill-opacity: 1;\"/><path class=\"point\" transform=\"translate(462.13,66.06)\" d=\"M3,0A3,3 0 1,1 0,-3A3,3 0 0,1 3,0Z\" style=\"opacity: 1; stroke-width: 0px; fill: rgb(127, 127, 127); fill-opacity: 1;\"/><path class=\"point\" transform=\"translate(604.25,16.8)\" d=\"M3,0A3,3 0 1,1 0,-3A3,3 0 0,1 3,0Z\" style=\"opacity: 1; stroke-width: 0px; fill: rgb(127, 127, 127); fill-opacity: 1;\"/></g><g class=\"text\"/></g><g class=\"trace scatter trace85d24af9-8a6c-4c4d-9657-1236a6337cf0\" style=\"stroke-miterlimit: 2;\"><g class=\"fills\"><g><path class=\"js-fill\" d=\"M35.75,244.2L604.25,42.9L604.25,16.8L462.13,66.06L35.75,244.2Z\" style=\"fill: rgb(255, 0, 0); fill-opacity: 0.3; stroke-width: 0;\"/></g></g><g class=\"errorbars\"/><g class=\"lines\"><path class=\"js-line\" d=\"M35.75,244.2L462.13,66.06L604.25,16.8\" style=\"vector-effect: non-scaling-stroke; fill: none; stroke: rgb(0, 0, 0); stroke-opacity: 0; stroke-width: 0px; opacity: 1;\"/></g><g class=\"points\"><path class=\"point\" transform=\"translate(35.75,244.2)\" d=\"M3,0A3,3 0 1,1 0,-3A3,3 0 0,1 3,0Z\" style=\"opacity: 1; stroke-width: 0px; fill: rgb(0, 0, 0); fill-opacity: 0;\"/><path class=\"point\" transform=\"translate(177.87,184.8)\" d=\"M3,0A3,3 0 1,1 0,-3A3,3 0 0,1 3,0Z\" style=\"opacity: 1; stroke-width: 0px; fill: rgb(0, 0, 0); fill-opacity: 0;\"/><path class=\"point\" transform=\"translate(320,124.85)\" d=\"M3,0A3,3 0 1,1 0,-3A3,3 0 0,1 3,0Z\" style=\"opacity: 1; stroke-width: 0px; fill: rgb(0, 0, 0); fill-opacity: 0;\"/><path class=\"point\" transform=\"translate(462.13,66.06)\" d=\"M3,0A3,3 0 1,1 0,-3A3,3 0 0,1 3,0Z\" style=\"opacity: 1; stroke-width: 0px; fill: rgb(0, 0, 0); fill-opacity: 0;\"/><path class=\"point\" transform=\"translate(604.25,16.8)\" d=\"M3,0A3,3 0 1,1 0,-3A3,3 0 0,1 3,0Z\" style=\"opacity: 1; stroke-width: 0px; fill: rgb(0, 0, 0); fill-opacity: 0;\"/></g><g class=\"text\"/></g><g class=\"trace scatter tracefdb3bbce-ee27-4941-a1f3-2ed65bdf0204\" style=\"stroke-miterlimit: 2;\"><g class=\"fills\"/><g class=\"errorbars\"/><g class=\"lines\"><path class=\"js-line\" d=\"M35.75,244.2L604.25,42.9\" style=\"vector-effect: non-scaling-stroke; fill: none; stroke: rgb(0, 0, 0); stroke-opacity: 0; stroke-width: 0px; opacity: 1;\"/></g><g class=\"points\"><path class=\"point\" transform=\"translate(35.75,244.2)\" d=\"M3,0A3,3 0 1,1 0,-3A3,3 0 0,1 3,0Z\" style=\"opacity: 1; stroke-width: 0px; fill: rgb(0, 0, 0); fill-opacity: 0;\"/><path class=\"point\" transform=\"translate(177.87,193.87)\" d=\"M3,0A3,3 0 1,1 0,-3A3,3 0 0,1 3,0Z\" style=\"opacity: 1; stroke-width: 0px; fill: rgb(0, 0, 0); fill-opacity: 0;\"/><path class=\"point\" transform=\"translate(320,143.55)\" d=\"M3,0A3,3 0 1,1 0,-3A3,3 0 0,1 3,0Z\" style=\"opacity: 1; stroke-width: 0px; fill: rgb(0, 0, 0); fill-opacity: 0;\"/><path class=\"point\" transform=\"translate(462.13,93.22)\" d=\"M3,0A3,3 0 1,1 0,-3A3,3 0 0,1 3,0Z\" style=\"opacity: 1; stroke-width: 0px; fill: rgb(0, 0, 0); fill-opacity: 0;\"/><path class=\"point\" transform=\"translate(604.25,42.9)\" d=\"M3,0A3,3 0 1,1 0,-3A3,3 0 0,1 3,0Z\" style=\"opacity: 1; stroke-width: 0px; fill: rgb(0, 0, 0); fill-opacity: 0;\"/></g><g class=\"text\"/></g><g class=\"trace scatter trace058924c8-9514-4fe0-9881-430fadcefc95\" style=\"stroke-miterlimit: 2; opacity: 1;\"><g class=\"fills\"/><g class=\"errorbars\"/><g class=\"lines\"><path class=\"js-line\" d=\"M35.75,244.2L604.25,42.9\" style=\"vector-effect: non-scaling-stroke; fill: none; stroke: rgb(148, 103, 189); stroke-opacity: 1; stroke-width: 2px; opacity: 1;\"/></g><g class=\"points\"><path class=\"point\" transform=\"translate(35.75,244.2)\" d=\"M3,0A3,3 0 1,1 0,-3A3,3 0 0,1 3,0Z\" style=\"opacity: 1; stroke-width: 0px; fill: rgb(148, 103, 189); fill-opacity: 1;\"/><path class=\"point\" transform=\"translate(177.87,193.87)\" d=\"M3,0A3,3 0 1,1 0,-3A3,3 0 0,1 3,0Z\" style=\"opacity: 1; stroke-width: 0px; fill: rgb(148, 103, 189); fill-opacity: 1;\"/><path class=\"point\" transform=\"translate(320,143.55)\" d=\"M3,0A3,3 0 1,1 0,-3A3,3 0 0,1 3,0Z\" style=\"opacity: 1; stroke-width: 0px; fill: rgb(148, 103, 189); fill-opacity: 1;\"/><path class=\"point\" transform=\"translate(462.13,93.22)\" d=\"M3,0A3,3 0 1,1 0,-3A3,3 0 0,1 3,0Z\" style=\"opacity: 1; stroke-width: 0px; fill: rgb(148, 103, 189); fill-opacity: 1;\"/><path class=\"point\" transform=\"translate(604.25,42.9)\" d=\"M3,0A3,3 0 1,1 0,-3A3,3 0 0,1 3,0Z\" style=\"opacity: 1; stroke-width: 0px; fill: rgb(148, 103, 189); fill-opacity: 1;\"/></g><g class=\"text\"/></g><g class=\"trace scatter trace6af4f449-66c4-4929-90e1-a81342df8b8c\" style=\"stroke-miterlimit: 2; opacity: 0;\"><g class=\"fills\"/><g class=\"errorbars\"/><g class=\"lines\"><path class=\"js-line\" d=\"M35.75,244.2L462.13,66.06L604.25,16.8\" style=\"vector-effect: non-scaling-stroke; fill: none; stroke: rgb(0, 0, 0); stroke-opacity: 0; stroke-width: 0px; opacity: 1;\"/></g><g class=\"points\"><path class=\"point\" transform=\"translate(35.75,244.2)\" d=\"M3,0A3,3 0 1,1 0,-3A3,3 0 0,1 3,0Z\" style=\"opacity: 1; stroke-width: 0px; fill: rgb(0, 0, 0); fill-opacity: 0;\"/><path class=\"point\" transform=\"translate(177.87,184.8)\" d=\"M3,0A3,3 0 1,1 0,-3A3,3 0 0,1 3,0Z\" style=\"opacity: 1; stroke-width: 0px; fill: rgb(0, 0, 0); fill-opacity: 0;\"/><path class=\"point\" transform=\"translate(320,124.85)\" d=\"M3,0A3,3 0 1,1 0,-3A3,3 0 0,1 3,0Z\" style=\"opacity: 1; stroke-width: 0px; fill: rgb(0, 0, 0); fill-opacity: 0;\"/><path class=\"point\" transform=\"translate(462.13,66.06)\" d=\"M3,0A3,3 0 1,1 0,-3A3,3 0 0,1 3,0Z\" style=\"opacity: 1; stroke-width: 0px; fill: rgb(0, 0, 0); fill-opacity: 0;\"/><path class=\"point\" transform=\"translate(604.25,16.8)\" d=\"M3,0A3,3 0 1,1 0,-3A3,3 0 0,1 3,0Z\" style=\"opacity: 1; stroke-width: 0px; fill: rgb(0, 0, 0); fill-opacity: 0;\"/></g><g class=\"text\"/></g></g></g><g class=\"overplot\"/><path class=\"xlines-above crisp\" d=\"M0,0\" style=\"fill: none;\"/><path class=\"ylines-above crisp\" d=\"M0,0\" style=\"fill: none;\"/><g class=\"overlines-above\"/><g class=\"xaxislayer-above\"><g class=\"xtick\"><text text-anchor=\"middle\" x=\"0\" y=\"320\" transform=\"translate(65.75,0)\" style=\"font-family: 'Open Sans', verdana, arial, sans-serif; font-size: 12px; fill: rgb(42, 63, 95); fill-opacity: 1; white-space: pre;\"><tspan class=\"line\" dy=\"0em\" x=\"0\" y=\"320\">Jan 1</tspan><tspan class=\"line\" dy=\"1.3em\" x=\"0\" y=\"320\">2018</tspan></text></g><g class=\"xtick\"><text text-anchor=\"middle\" x=\"0\" y=\"320\" transform=\"translate(207.87,0)\" style=\"font-family: 'Open Sans', verdana, arial, sans-serif; font-size: 12px; fill: rgb(42, 63, 95); fill-opacity: 1; white-space: pre;\">Jan 2</text></g><g class=\"xtick\"><text text-anchor=\"middle\" x=\"0\" y=\"320\" transform=\"translate(350,0)\" style=\"font-family: 'Open Sans', verdana, arial, sans-serif; font-size: 12px; fill: rgb(42, 63, 95); fill-opacity: 1; white-space: pre;\">Jan 3</text></g><g class=\"xtick\"><text text-anchor=\"middle\" x=\"0\" y=\"320\" transform=\"translate(492.13,0)\" style=\"font-family: 'Open Sans', verdana, arial, sans-serif; font-size: 12px; fill: rgb(42, 63, 95); fill-opacity: 1; white-space: pre;\">Jan 4</text></g><g class=\"xtick\"><text text-anchor=\"middle\" x=\"0\" y=\"320\" transform=\"translate(634.25,0)\" style=\"font-family: 'Open Sans', verdana, arial, sans-serif; font-size: 12px; fill: rgb(42, 63, 95); fill-opacity: 1; white-space: pre;\">Jan 5</text></g></g><g class=\"yaxislayer-above\"><g class=\"ytick\"><text text-anchor=\"end\" x=\"29\" y=\"4.199999999999999\" transform=\"translate(0,290.2)\" style=\"font-family: 'Open Sans', verdana, arial, sans-serif; font-size: 12px; fill: rgb(42, 63, 95); fill-opacity: 1; white-space: pre;\">1</text></g><g class=\"ytick\"><text text-anchor=\"end\" x=\"29\" y=\"4.199999999999999\" transform=\"translate(0,239.87)\" style=\"font-family: 'Open Sans', verdana, arial, sans-serif; font-size: 12px; fill: rgb(42, 63, 95); fill-opacity: 1; white-space: pre;\">2</text></g><g class=\"ytick\"><text text-anchor=\"end\" x=\"29\" y=\"4.199999999999999\" transform=\"translate(0,189.55)\" style=\"font-family: 'Open Sans', verdana, arial, sans-serif; font-size: 12px; fill: rgb(42, 63, 95); fill-opacity: 1; white-space: pre;\">3</text></g><g class=\"ytick\"><text text-anchor=\"end\" x=\"29\" y=\"4.199999999999999\" transform=\"translate(0,139.22)\" style=\"font-family: 'Open Sans', verdana, arial, sans-serif; font-size: 12px; fill: rgb(42, 63, 95); fill-opacity: 1; white-space: pre;\">4</text></g><g class=\"ytick\"><text text-anchor=\"end\" x=\"29\" y=\"4.199999999999999\" transform=\"translate(0,88.9)\" style=\"font-family: 'Open Sans', verdana, arial, sans-serif; font-size: 12px; fill: rgb(42, 63, 95); fill-opacity: 1; white-space: pre;\">5</text></g></g><g class=\"overaxes-above\"/></g></g><g class=\"polarlayer\"/><g class=\"ternarylayer\"/><g class=\"geolayer\"/><g class=\"funnelarealayer\"/><g class=\"pielayer\"/><g class=\"treemaplayer\"/><g class=\"sunburstlayer\"/><g class=\"glimages\"/><defs id=\"topdefs-5bdfde\"><g class=\"clips\"/><clipPath id=\"legend5bdfde\"><rect width=\"166\" height=\"29\" x=\"0\" y=\"0\"/></clipPath></defs><g class=\"layer-above\"><g class=\"imagelayer\"/><g class=\"shapelayer\"><path data-index=\"0\" fill-rule=\"evenodd\" d=\"M30,290.2L670,290.2\" clip-path=\"url('#clip5bdfdey')\" style=\"opacity: 1; stroke: rgb(128, 128, 128); stroke-opacity: 1; fill: rgb(0, 0, 0); fill-opacity: 0; stroke-dasharray: 9px, 9px; stroke-width: 2px;\"/></g></g><g class=\"infolayer\"><g class=\"legend\" pointer-events=\"all\" transform=\"translate(504,11.779999999999994)\"><rect class=\"bg\" shape-rendering=\"crispEdges\" width=\"166\" height=\"29\" x=\"0\" y=\"0\" style=\"stroke: rgb(68, 68, 68); stroke-opacity: 1; fill: rgb(255, 255, 255); fill-opacity: 1; stroke-width: 0px;\"/><g class=\"scrollbox\" transform=\"\" clip-path=\"url('#legend5bdfde')\"><g class=\"groups\"><g class=\"traces\" transform=\"translate(0,14.5)\" style=\"opacity: 1;\"><text class=\"legendtext\" text-anchor=\"start\" x=\"40\" y=\"4.680000000000001\" style=\"font-family: 'Open Sans', verdana, arial, sans-serif; font-size: 12px; fill: rgb(42, 63, 95); fill-opacity: 1; white-space: pre;\">Benchmark</text><g class=\"layers\" style=\"opacity: 1;\"><g class=\"legendfill\"/><g class=\"legendlines\"><path class=\"js-line\" d=\"M5,0h30\" style=\"fill: none; stroke: rgb(127, 127, 127); stroke-opacity: 1; stroke-width: 2px;\"/></g><g class=\"legendsymbols\"><g class=\"legendpoints\"><path class=\"scatterpts\" transform=\"translate(20,0)\" d=\"M3,0A3,3 0 1,1 0,-3A3,3 0 0,1 3,0Z\" style=\"opacity: 1; stroke-width: 0px; fill: rgb(127, 127, 127); fill-opacity: 1;\"/></g></g></g><rect class=\"legendtoggle\" x=\"0\" y=\"-9.5\" width=\"110.421875\" height=\"19\" style=\"fill: rgb(0, 0, 0); fill-opacity: 0;\"/></g><g class=\"traces\" transform=\"translate(112.921875,14.5)\" style=\"opacity: 1;\"><text class=\"legendtext\" text-anchor=\"start\" x=\"40\" y=\"4.680000000000001\" style=\"font-family: 'Open Sans', verdana, arial, sans-serif; font-size: 12px; fill: rgb(42, 63, 95); fill-opacity: 1; white-space: pre;\">a</text><g class=\"layers\" style=\"opacity: 1;\"><g class=\"legendfill\"/><g class=\"legendlines\"><path class=\"js-line\" d=\"M5,0h30\" style=\"fill: none; stroke: rgb(148, 103, 189); stroke-opacity: 1; stroke-width: 2px;\"/></g><g class=\"legendsymbols\"><g class=\"legendpoints\"><path class=\"scatterpts\" transform=\"translate(20,0)\" d=\"M3,0A3,3 0 1,1 0,-3A3,3 0 0,1 3,0Z\" style=\"opacity: 1; stroke-width: 0px; fill: rgb(148, 103, 189); fill-opacity: 1;\"/></g></g></g><rect class=\"legendtoggle\" x=\"0\" y=\"-9.5\" width=\"49.71875\" height=\"19\" style=\"fill: rgb(0, 0, 0); fill-opacity: 0;\"/></g></g></g><rect class=\"scrollbar\" rx=\"20\" ry=\"3\" width=\"0\" height=\"0\" x=\"0\" y=\"0\" style=\"fill: rgb(128, 139, 164); fill-opacity: 1;\"/></g><g class=\"g-gtitle\"/><g class=\"g-xtitle\"/><g class=\"g-ytitle\"/></g></svg>"
      ]
     },
     "metadata": {},
     "output_type": "display_data"
    }
   ],
   "source": [
    "returns['a'].vbt.returns.plot_cumulative(benchmark_rets, fill_to_benchmark=True).show_svg()"
   ]
  },
  {
   "cell_type": "code",
   "execution_count": null,
   "metadata": {},
   "outputs": [],
   "source": []
  }
 ],
 "metadata": {
  "kernelspec": {
   "display_name": "Python 3 (ipykernel)",
   "language": "python",
   "name": "python3"
  },
  "language_info": {
   "codemirror_mode": {
    "name": "ipython",
    "version": 3
   },
   "file_extension": ".py",
   "mimetype": "text/x-python",
   "name": "python",
   "nbconvert_exporter": "python",
   "pygments_lexer": "ipython3",
   "version": "3.7.3"
  },
  "widgets": {
   "application/vnd.jupyter.widget-state+json": {
    "state": {},
    "version_major": 2,
    "version_minor": 0
   }
  }
 },
 "nbformat": 4,
 "nbformat_minor": 4
}
